{
 "cells": [
  {
   "cell_type": "markdown",
   "metadata": {},
   "source": [
    "## Predicting Airbnb popularity"
   ]
  },
  {
   "cell_type": "markdown",
   "metadata": {},
   "source": [
    "A regression problem of predicting `reviews_per_month`, as a proxy for the popularity of the listing with [New York City Airbnb listings from 2019 dataset](https://www.kaggle.com/dgomonov/new-york-city-airbnb-open-data). Airbnb could use this sort of model to predict how popular future listings might be before they are posted, perhaps to help guide hosts create more appealing listings. In reality they might instead use something like vacancy rate or average rating as their target, but we do not have that available here."
   ]
  },
  {
   "cell_type": "code",
   "execution_count": 22,
   "metadata": {},
   "outputs": [
    {
     "data": {
      "text/plain": [
       "DataTransformerRegistry.enable('data_server')"
      ]
     },
     "execution_count": 22,
     "metadata": {},
     "output_type": "execute_result"
    }
   ],
   "source": [
    "#Importing libraries needed\n",
    "import pandas as pd\n",
    "import numpy as np \n",
    "from sklearn.model_selection import cross_val_score, cross_validate, train_test_split, RandomizedSearchCV\n",
    "import altair as alt\n",
    "from sklearn.compose import ColumnTransformer, make_column_transformer\n",
    "from sklearn.preprocessing import OneHotEncoder, StandardScaler\n",
    "from sklearn.impute import SimpleImputer\n",
    "from sklearn.pipeline import Pipeline, make_pipeline\n",
    "from sklearn.feature_extraction.text import CountVectorizer\n",
    "from sklearn.dummy import DummyRegressor\n",
    "from sklearn.linear_model import Ridge\n",
    "from sklearn.ensemble import GradientBoostingRegressor\n",
    "from scipy.stats import loguniform\n",
    "from sklearn.svm import SVR\n",
    "from sklearn.neighbors import KNeighborsRegressor\n",
    "from lightgbm.sklearn import LGBMRegressor\n",
    "from xgboost import XGBRegressor\n",
    "from catboost import CatBoostRegressor\n",
    "from sklearn.feature_selection import RFECV\n",
    "import shap\n",
    "import eli5\n",
    "alt.data_transformers.enable('data_server')\n",
    "alt.renderers.enable('mimetype')\n",
    "alt.data_transformers.disable_max_rows()\n"
   ]
  },
  {
   "cell_type": "markdown",
   "metadata": {},
   "source": [
    "#### Thoughts on the problem and the dataset"
   ]
  },
  {
   "cell_type": "markdown",
   "metadata": {},
   "source": [
    "The data set contains properties listed on Airbnb in New York in 2019, it is build of an identifier for each record (`id`) and 15 attributes associated with each property, of these attributes 6 are categorical and 9 are numeric (both discrete and continuous). The attributes contain information about the host, geographic location, property type, price, restrictions, and reviews. Additionally, the size of the data frame is good, there are almost 49 thousand records (before processing).\n",
    "\n",
    "The objective of the model is to predict the popularity of an accommodation using the objective variable `reviews_per_month`. Our target variable is a good proxy for popularity since Airbnb has mechanisms that encourage users to write reviews on the platform, and, as a consequence, reviews are a core factor when deciding on an accommodation among all the options available."
   ]
  },
  {
   "cell_type": "code",
   "execution_count": 23,
   "metadata": {},
   "outputs": [
    {
     "data": {
      "text/html": [
       "<div>\n",
       "<style scoped>\n",
       "    .dataframe tbody tr th:only-of-type {\n",
       "        vertical-align: middle;\n",
       "    }\n",
       "\n",
       "    .dataframe tbody tr th {\n",
       "        vertical-align: top;\n",
       "    }\n",
       "\n",
       "    .dataframe thead th {\n",
       "        text-align: right;\n",
       "    }\n",
       "</style>\n",
       "<table border=\"1\" class=\"dataframe\">\n",
       "  <thead>\n",
       "    <tr style=\"text-align: right;\">\n",
       "      <th></th>\n",
       "      <th>id</th>\n",
       "      <th>name</th>\n",
       "      <th>host_id</th>\n",
       "      <th>host_name</th>\n",
       "      <th>neighbourhood_group</th>\n",
       "      <th>neighbourhood</th>\n",
       "      <th>latitude</th>\n",
       "      <th>longitude</th>\n",
       "      <th>room_type</th>\n",
       "      <th>price</th>\n",
       "      <th>minimum_nights</th>\n",
       "      <th>number_of_reviews</th>\n",
       "      <th>last_review</th>\n",
       "      <th>reviews_per_month</th>\n",
       "      <th>calculated_host_listings_count</th>\n",
       "      <th>availability_365</th>\n",
       "    </tr>\n",
       "  </thead>\n",
       "  <tbody>\n",
       "    <tr>\n",
       "      <th>0</th>\n",
       "      <td>2539</td>\n",
       "      <td>Clean &amp; quiet apt home by the park</td>\n",
       "      <td>2787</td>\n",
       "      <td>John</td>\n",
       "      <td>Brooklyn</td>\n",
       "      <td>Kensington</td>\n",
       "      <td>40.64749</td>\n",
       "      <td>-73.97237</td>\n",
       "      <td>Private room</td>\n",
       "      <td>149</td>\n",
       "      <td>1</td>\n",
       "      <td>9</td>\n",
       "      <td>2018-10-19</td>\n",
       "      <td>0.21</td>\n",
       "      <td>6</td>\n",
       "      <td>365</td>\n",
       "    </tr>\n",
       "    <tr>\n",
       "      <th>1</th>\n",
       "      <td>2595</td>\n",
       "      <td>Skylit Midtown Castle</td>\n",
       "      <td>2845</td>\n",
       "      <td>Jennifer</td>\n",
       "      <td>Manhattan</td>\n",
       "      <td>Midtown</td>\n",
       "      <td>40.75362</td>\n",
       "      <td>-73.98377</td>\n",
       "      <td>Entire home/apt</td>\n",
       "      <td>225</td>\n",
       "      <td>1</td>\n",
       "      <td>45</td>\n",
       "      <td>2019-05-21</td>\n",
       "      <td>0.38</td>\n",
       "      <td>2</td>\n",
       "      <td>355</td>\n",
       "    </tr>\n",
       "    <tr>\n",
       "      <th>2</th>\n",
       "      <td>3647</td>\n",
       "      <td>THE VILLAGE OF HARLEM....NEW YORK !</td>\n",
       "      <td>4632</td>\n",
       "      <td>Elisabeth</td>\n",
       "      <td>Manhattan</td>\n",
       "      <td>Harlem</td>\n",
       "      <td>40.80902</td>\n",
       "      <td>-73.94190</td>\n",
       "      <td>Private room</td>\n",
       "      <td>150</td>\n",
       "      <td>3</td>\n",
       "      <td>0</td>\n",
       "      <td>NaN</td>\n",
       "      <td>NaN</td>\n",
       "      <td>1</td>\n",
       "      <td>365</td>\n",
       "    </tr>\n",
       "  </tbody>\n",
       "</table>\n",
       "</div>"
      ],
      "text/plain": [
       "     id                                 name  host_id  host_name  \\\n",
       "0  2539   Clean & quiet apt home by the park     2787       John   \n",
       "1  2595                Skylit Midtown Castle     2845   Jennifer   \n",
       "2  3647  THE VILLAGE OF HARLEM....NEW YORK !     4632  Elisabeth   \n",
       "\n",
       "  neighbourhood_group neighbourhood  latitude  longitude        room_type  \\\n",
       "0            Brooklyn    Kensington  40.64749  -73.97237     Private room   \n",
       "1           Manhattan       Midtown  40.75362  -73.98377  Entire home/apt   \n",
       "2           Manhattan        Harlem  40.80902  -73.94190     Private room   \n",
       "\n",
       "   price  minimum_nights  number_of_reviews last_review  reviews_per_month  \\\n",
       "0    149               1                  9  2018-10-19               0.21   \n",
       "1    225               1                 45  2019-05-21               0.38   \n",
       "2    150               3                  0         NaN                NaN   \n",
       "\n",
       "   calculated_host_listings_count  availability_365  \n",
       "0                               6               365  \n",
       "1                               2               355  \n",
       "2                               1               365  "
      ]
     },
     "execution_count": 23,
     "metadata": {},
     "output_type": "execute_result"
    }
   ],
   "source": [
    "# Reading the data and displaying the first few rows\n",
    "airbnb_data = pd.read_csv('../data/AB_NYC_2019.csv')\n",
    "airbnb_data.head(3)"
   ]
  },
  {
   "cell_type": "markdown",
   "metadata": {},
   "source": [
    "#### Preliminary preprocessing"
   ]
  },
  {
   "cell_type": "markdown",
   "metadata": {},
   "source": [
    "The `reviews_per_month` column has about 10 thousand null values, since this is the target variable we will remove those rows."
   ]
  },
  {
   "cell_type": "code",
   "execution_count": 24,
   "metadata": {
    "tags": []
   },
   "outputs": [
    {
     "name": "stdout",
     "output_type": "stream",
     "text": [
      "<class 'pandas.core.frame.DataFrame'>\n",
      "RangeIndex: 48895 entries, 0 to 48894\n",
      "Data columns (total 16 columns):\n",
      " #   Column                          Non-Null Count  Dtype  \n",
      "---  ------                          --------------  -----  \n",
      " 0   id                              48895 non-null  int64  \n",
      " 1   name                            48879 non-null  object \n",
      " 2   host_id                         48895 non-null  int64  \n",
      " 3   host_name                       48874 non-null  object \n",
      " 4   neighbourhood_group             48895 non-null  object \n",
      " 5   neighbourhood                   48895 non-null  object \n",
      " 6   latitude                        48895 non-null  float64\n",
      " 7   longitude                       48895 non-null  float64\n",
      " 8   room_type                       48895 non-null  object \n",
      " 9   price                           48895 non-null  int64  \n",
      " 10  minimum_nights                  48895 non-null  int64  \n",
      " 11  number_of_reviews               48895 non-null  int64  \n",
      " 12  last_review                     38843 non-null  object \n",
      " 13  reviews_per_month               38843 non-null  float64\n",
      " 14  calculated_host_listings_count  48895 non-null  int64  \n",
      " 15  availability_365                48895 non-null  int64  \n",
      "dtypes: float64(3), int64(7), object(6)\n",
      "memory usage: 6.0+ MB\n"
     ]
    }
   ],
   "source": [
    "# Glimpse of column types and null values\n",
    "airbnb_data.info()"
   ]
  },
  {
   "cell_type": "code",
   "execution_count": 25,
   "metadata": {},
   "outputs": [
    {
     "data": {
      "text/html": [
       "<div>\n",
       "<style scoped>\n",
       "    .dataframe tbody tr th:only-of-type {\n",
       "        vertical-align: middle;\n",
       "    }\n",
       "\n",
       "    .dataframe tbody tr th {\n",
       "        vertical-align: top;\n",
       "    }\n",
       "\n",
       "    .dataframe thead th {\n",
       "        text-align: right;\n",
       "    }\n",
       "</style>\n",
       "<table border=\"1\" class=\"dataframe\">\n",
       "  <thead>\n",
       "    <tr style=\"text-align: right;\">\n",
       "      <th></th>\n",
       "      <th>id</th>\n",
       "      <th>host_id</th>\n",
       "      <th>latitude</th>\n",
       "      <th>longitude</th>\n",
       "      <th>price</th>\n",
       "      <th>minimum_nights</th>\n",
       "      <th>number_of_reviews</th>\n",
       "      <th>reviews_per_month</th>\n",
       "      <th>calculated_host_listings_count</th>\n",
       "      <th>availability_365</th>\n",
       "    </tr>\n",
       "  </thead>\n",
       "  <tbody>\n",
       "    <tr>\n",
       "      <th>count</th>\n",
       "      <td>4.889500e+04</td>\n",
       "      <td>4.889500e+04</td>\n",
       "      <td>48895.000000</td>\n",
       "      <td>48895.000000</td>\n",
       "      <td>48895.000000</td>\n",
       "      <td>48895.000000</td>\n",
       "      <td>48895.000000</td>\n",
       "      <td>38843.000000</td>\n",
       "      <td>48895.000000</td>\n",
       "      <td>48895.000000</td>\n",
       "    </tr>\n",
       "    <tr>\n",
       "      <th>mean</th>\n",
       "      <td>1.901714e+07</td>\n",
       "      <td>6.762001e+07</td>\n",
       "      <td>40.728949</td>\n",
       "      <td>-73.952170</td>\n",
       "      <td>152.720687</td>\n",
       "      <td>7.029962</td>\n",
       "      <td>23.274466</td>\n",
       "      <td>1.373221</td>\n",
       "      <td>7.143982</td>\n",
       "      <td>112.781327</td>\n",
       "    </tr>\n",
       "    <tr>\n",
       "      <th>std</th>\n",
       "      <td>1.098311e+07</td>\n",
       "      <td>7.861097e+07</td>\n",
       "      <td>0.054530</td>\n",
       "      <td>0.046157</td>\n",
       "      <td>240.154170</td>\n",
       "      <td>20.510550</td>\n",
       "      <td>44.550582</td>\n",
       "      <td>1.680442</td>\n",
       "      <td>32.952519</td>\n",
       "      <td>131.622289</td>\n",
       "    </tr>\n",
       "    <tr>\n",
       "      <th>min</th>\n",
       "      <td>2.539000e+03</td>\n",
       "      <td>2.438000e+03</td>\n",
       "      <td>40.499790</td>\n",
       "      <td>-74.244420</td>\n",
       "      <td>0.000000</td>\n",
       "      <td>1.000000</td>\n",
       "      <td>0.000000</td>\n",
       "      <td>0.010000</td>\n",
       "      <td>1.000000</td>\n",
       "      <td>0.000000</td>\n",
       "    </tr>\n",
       "    <tr>\n",
       "      <th>25%</th>\n",
       "      <td>9.471945e+06</td>\n",
       "      <td>7.822033e+06</td>\n",
       "      <td>40.690100</td>\n",
       "      <td>-73.983070</td>\n",
       "      <td>69.000000</td>\n",
       "      <td>1.000000</td>\n",
       "      <td>1.000000</td>\n",
       "      <td>0.190000</td>\n",
       "      <td>1.000000</td>\n",
       "      <td>0.000000</td>\n",
       "    </tr>\n",
       "    <tr>\n",
       "      <th>50%</th>\n",
       "      <td>1.967728e+07</td>\n",
       "      <td>3.079382e+07</td>\n",
       "      <td>40.723070</td>\n",
       "      <td>-73.955680</td>\n",
       "      <td>106.000000</td>\n",
       "      <td>3.000000</td>\n",
       "      <td>5.000000</td>\n",
       "      <td>0.720000</td>\n",
       "      <td>1.000000</td>\n",
       "      <td>45.000000</td>\n",
       "    </tr>\n",
       "    <tr>\n",
       "      <th>75%</th>\n",
       "      <td>2.915218e+07</td>\n",
       "      <td>1.074344e+08</td>\n",
       "      <td>40.763115</td>\n",
       "      <td>-73.936275</td>\n",
       "      <td>175.000000</td>\n",
       "      <td>5.000000</td>\n",
       "      <td>24.000000</td>\n",
       "      <td>2.020000</td>\n",
       "      <td>2.000000</td>\n",
       "      <td>227.000000</td>\n",
       "    </tr>\n",
       "    <tr>\n",
       "      <th>max</th>\n",
       "      <td>3.648724e+07</td>\n",
       "      <td>2.743213e+08</td>\n",
       "      <td>40.913060</td>\n",
       "      <td>-73.712990</td>\n",
       "      <td>10000.000000</td>\n",
       "      <td>1250.000000</td>\n",
       "      <td>629.000000</td>\n",
       "      <td>58.500000</td>\n",
       "      <td>327.000000</td>\n",
       "      <td>365.000000</td>\n",
       "    </tr>\n",
       "  </tbody>\n",
       "</table>\n",
       "</div>"
      ],
      "text/plain": [
       "                 id       host_id      latitude     longitude         price  \\\n",
       "count  4.889500e+04  4.889500e+04  48895.000000  48895.000000  48895.000000   \n",
       "mean   1.901714e+07  6.762001e+07     40.728949    -73.952170    152.720687   \n",
       "std    1.098311e+07  7.861097e+07      0.054530      0.046157    240.154170   \n",
       "min    2.539000e+03  2.438000e+03     40.499790    -74.244420      0.000000   \n",
       "25%    9.471945e+06  7.822033e+06     40.690100    -73.983070     69.000000   \n",
       "50%    1.967728e+07  3.079382e+07     40.723070    -73.955680    106.000000   \n",
       "75%    2.915218e+07  1.074344e+08     40.763115    -73.936275    175.000000   \n",
       "max    3.648724e+07  2.743213e+08     40.913060    -73.712990  10000.000000   \n",
       "\n",
       "       minimum_nights  number_of_reviews  reviews_per_month  \\\n",
       "count    48895.000000       48895.000000       38843.000000   \n",
       "mean         7.029962          23.274466           1.373221   \n",
       "std         20.510550          44.550582           1.680442   \n",
       "min          1.000000           0.000000           0.010000   \n",
       "25%          1.000000           1.000000           0.190000   \n",
       "50%          3.000000           5.000000           0.720000   \n",
       "75%          5.000000          24.000000           2.020000   \n",
       "max       1250.000000         629.000000          58.500000   \n",
       "\n",
       "       calculated_host_listings_count  availability_365  \n",
       "count                    48895.000000      48895.000000  \n",
       "mean                         7.143982        112.781327  \n",
       "std                         32.952519        131.622289  \n",
       "min                          1.000000          0.000000  \n",
       "25%                          1.000000          0.000000  \n",
       "50%                          1.000000         45.000000  \n",
       "75%                          2.000000        227.000000  \n",
       "max                        327.000000        365.000000  "
      ]
     },
     "execution_count": 25,
     "metadata": {},
     "output_type": "execute_result"
    }
   ],
   "source": [
    "# Data frame quick summary statistics\n",
    "airbnb_data.describe()"
   ]
  },
  {
   "cell_type": "code",
   "execution_count": 26,
   "metadata": {},
   "outputs": [
    {
     "name": "stdout",
     "output_type": "stream",
     "text": [
      "<class 'pandas.core.frame.DataFrame'>\n",
      "Int64Index: 38821 entries, 0 to 48852\n",
      "Data columns (total 16 columns):\n",
      " #   Column                          Non-Null Count  Dtype  \n",
      "---  ------                          --------------  -----  \n",
      " 0   id                              38821 non-null  int64  \n",
      " 1   name                            38821 non-null  object \n",
      " 2   host_id                         38821 non-null  int64  \n",
      " 3   host_name                       38821 non-null  object \n",
      " 4   neighbourhood_group             38821 non-null  object \n",
      " 5   neighbourhood                   38821 non-null  object \n",
      " 6   latitude                        38821 non-null  float64\n",
      " 7   longitude                       38821 non-null  float64\n",
      " 8   room_type                       38821 non-null  object \n",
      " 9   price                           38821 non-null  int64  \n",
      " 10  minimum_nights                  38821 non-null  int64  \n",
      " 11  number_of_reviews               38821 non-null  int64  \n",
      " 12  last_review                     38821 non-null  object \n",
      " 13  reviews_per_month               38821 non-null  float64\n",
      " 14  calculated_host_listings_count  38821 non-null  int64  \n",
      " 15  availability_365                38821 non-null  int64  \n",
      "dtypes: float64(3), int64(7), object(6)\n",
      "memory usage: 5.0+ MB\n"
     ]
    }
   ],
   "source": [
    "airbnb_data = airbnb_data.dropna(axis=0)\n",
    "airbnb_data.info()"
   ]
  },
  {
   "cell_type": "code",
   "execution_count": 27,
   "metadata": {
    "tags": []
   },
   "outputs": [],
   "source": [
    "# Data split, selected a 70-30 proportion since my laptop is not that capable, hence I'm trying this to reduce fit time a bit. \n",
    "train_df, test_df = train_test_split(airbnb_data, test_size=0.3, random_state=123)"
   ]
  },
  {
   "cell_type": "markdown",
   "metadata": {},
   "source": [
    "#### Plots for meaningful categorical variables"
   ]
  },
  {
   "cell_type": "markdown",
   "metadata": {},
   "source": [
    "The following graph shows the frequencies for each of the levels of the `neighbourhood_group` categorical variable, this to better understand how properties are distributed in New York neighborhoods. Manhattan being the neighborhood with the largest number of accommodations."
   ]
  },
  {
   "cell_type": "code",
   "execution_count": 28,
   "metadata": {
    "tags": []
   },
   "outputs": [
    {
     "data": {
      "application/vnd.vegalite.v4+json": {
       "$schema": "https://vega.github.io/schema/vega-lite/v4.17.0.json",
       "config": {
        "axis": {
         "titleFontSize": 14
        },
        "title": {
         "fontSize": 16
        },
        "view": {
         "continuousHeight": 300,
         "continuousWidth": 400
        }
       },
       "data": {
        "url": "http://localhost:51934/ed234b521f036857e94cb8896677ae9e.json"
       },
       "encoding": {
        "color": {
         "field": "highlight",
         "legend": null,
         "scale": {
          "range": [
           "#1f77b4",
           "orange"
          ]
         },
         "type": "nominal"
        },
        "x": {
         "aggregate": "count",
         "title": "Count",
         "type": "quantitative"
        },
        "y": {
         "field": "neighbourhood_group",
         "sort": "-x",
         "title": "Neighbourhood",
         "type": "nominal"
        }
       },
       "height": 250,
       "mark": "bar",
       "title": "New York 2019 Airbnb neighbourhood group frequency",
       "width": 400
      },
      "image/png": "[encoded data removed]",
      "text/plain": [
       "<VegaLite 4 object>\n",
       "\n",
       "If you see this message, it means the renderer has not been properly enabled\n",
       "for the frontend that you are using. For more information, see\n",
       "https://altair-viz.github.io/user_guide/troubleshooting.html\n"
      ]
     },
     "execution_count": 28,
     "metadata": {},
     "output_type": "execute_result"
    }
   ],
   "source": [
    "neighbourhood_data = train_df.copy()\n",
    "neighbourhood_data.loc[:,'highlight'] = False\n",
    "neighbourhood_data.loc[neighbourhood_data['neighbourhood_group'] == 'Manhattan', 'highlight'] = True\n",
    "\n",
    "neighbourhood_plot = alt.Chart(neighbourhood_data).mark_bar().encode(\n",
    "    x=alt.X('count()', title='Count'),\n",
    "    y=alt.Y('neighbourhood_group', title='Neighbourhood', sort='-x'), \n",
    "    color=alt.Color('highlight', legend=None, scale=alt.Scale(range=['#1f77b4', 'orange']))).properties(\n",
    "    title='New York 2019 Airbnb neighbourhood group frequency',height=250, width=400).configure_axis(\n",
    "    titleFontSize=14\n",
    "    ).configure_title(\n",
    "    fontSize=16\n",
    "    )\n",
    "neighbourhood_plot"
   ]
  },
  {
   "cell_type": "markdown",
   "metadata": {},
   "source": [
    "The following graph shows the `room_type` frequencies, this to better understand the levels of this categorical variable. Most of the properties are entire homes / apartments."
   ]
  },
  {
   "cell_type": "code",
   "execution_count": 29,
   "metadata": {
    "tags": []
   },
   "outputs": [
    {
     "data": {
      "application/vnd.vegalite.v4+json": {
       "$schema": "https://vega.github.io/schema/vega-lite/v4.17.0.json",
       "config": {
        "axis": {
         "titleFontSize": 14
        },
        "title": {
         "fontSize": 16
        },
        "view": {
         "continuousHeight": 300,
         "continuousWidth": 400
        }
       },
       "data": {
        "url": "http://localhost:51934/db1a1cf719b6c8367f4c50782d1cc696.json"
       },
       "encoding": {
        "color": {
         "field": "highlight",
         "legend": null,
         "scale": {
          "range": [
           "#1f77b4",
           "orange"
          ]
         },
         "type": "nominal"
        },
        "x": {
         "aggregate": "count",
         "title": "Count",
         "type": "quantitative"
        },
        "y": {
         "field": "room_type",
         "sort": "-x",
         "title": "Room type",
         "type": "nominal"
        }
       },
       "height": 250,
       "mark": "bar",
       "title": "New York 2019 Airbnb room type",
       "width": 400
      },
      "image/png": "[encoded data removed]",
      "text/plain": [
       "<VegaLite 4 object>\n",
       "\n",
       "If you see this message, it means the renderer has not been properly enabled\n",
       "for the frontend that you are using. For more information, see\n",
       "https://altair-viz.github.io/user_guide/troubleshooting.html\n"
      ]
     },
     "execution_count": 29,
     "metadata": {},
     "output_type": "execute_result"
    }
   ],
   "source": [
    "room_type_data = train_df.copy()\n",
    "room_type_data['highlight'] = False\n",
    "room_type_data.loc[room_type_data['room_type'] == 'Entire home/apt', 'highlight'] = True\n",
    "\n",
    "neighbourhood_plot = alt.Chart(room_type_data).mark_bar().encode(\n",
    "    x=alt.X('count()', title='Count'),\n",
    "    y=alt.Y('room_type', title='Room type', sort='-x'), \n",
    "    color=alt.Color('highlight', legend=None, scale=alt.Scale(range=['#1f77b4', 'orange']))).properties(\n",
    "    title='New York 2019 Airbnb room type',height=250, width=400).configure_axis(\n",
    "    titleFontSize=14\n",
    "    ).configure_title(\n",
    "    fontSize=16\n",
    "    )\n",
    "neighbourhood_plot"
   ]
  },
  {
   "cell_type": "markdown",
   "metadata": {},
   "source": [
    "#### Distribution plots for meaningful numerical variables"
   ]
  },
  {
   "cell_type": "markdown",
   "metadata": {},
   "source": [
    "Below is the price distribution by type of room. It can be seen that the price spread for houses and apartments is higher than that for private and shared rooms."
   ]
  },
  {
   "cell_type": "code",
   "execution_count": 30,
   "metadata": {
    "tags": []
   },
   "outputs": [
    {
     "data": {
      "application/vnd.vegalite.v4+json": {
       "$schema": "https://vega.github.io/schema/vega-lite/v4.17.0.json",
       "config": {
        "view": {
         "continuousHeight": 300,
         "continuousWidth": 400
        }
       },
       "data": {
        "url": "http://localhost:51934/db1a1cf719b6c8367f4c50782d1cc696.json"
       },
       "encoding": {
        "color": {
         "field": "room_type",
         "legend": {
          "orient": "top",
          "title": null
         },
         "scale": {
          "range": [
           "#b6cde1",
           "orangered",
           "#1f77b4"
          ]
         },
         "type": "nominal"
        },
        "x": {
         "bin": {
          "maxbins": 600
         },
         "field": "price",
         "scale": {
          "domain": [
           0,
           600
          ]
         },
         "title": "Price",
         "type": "quantitative"
        },
        "y": {
         "aggregate": "count",
         "stack": false,
         "title": "Count",
         "type": "quantitative"
        }
       },
       "height": 300,
       "mark": {
        "clip": true,
        "opacity": 0.6,
        "type": "bar"
       },
       "title": "New York 2019 Airbnb property price by room type",
       "width": 400
      },
      "image/png": "[encoded data removed]",
      "text/plain": [
       "<VegaLite 4 object>\n",
       "\n",
       "If you see this message, it means the renderer has not been properly enabled\n",
       "for the frontend that you are using. For more information, see\n",
       "https://altair-viz.github.io/user_guide/troubleshooting.html\n"
      ]
     },
     "execution_count": 30,
     "metadata": {},
     "output_type": "execute_result"
    }
   ],
   "source": [
    "price_dist = alt.Chart(room_type_data).mark_bar(opacity=0.6, clip=True).encode(\n",
    "    alt.X('price', bin=alt.Bin(maxbins=600), scale=alt.Scale(domain=(0, 600)), title = 'Price'),\n",
    "    alt.Y('count()', title = 'Count', stack=False),\n",
    "    color=alt.Color('room_type', \n",
    "                    scale=alt.Scale(range=['#b6cde1', 'orangered', '#1f77b4']),\n",
    "                    legend=alt.Legend(orient=\"top\", title=None))\n",
    "    ).properties(\n",
    "    height=300, \n",
    "    width=400, \n",
    "    title=\"New York 2019 Airbnb property price by room type\"\n",
    "    )\n",
    "price_dist"
   ]
  },
  {
   "cell_type": "markdown",
   "metadata": {},
   "source": [
    "The following graph shows our target variable `monthly reviews` distribution, cropped to from 0 to 10 reviews per month since most of the observations fall within this range. "
   ]
  },
  {
   "cell_type": "code",
   "execution_count": 31,
   "metadata": {
    "tags": []
   },
   "outputs": [
    {
     "data": {
      "application/vnd.vegalite.v4+json": {
       "$schema": "https://vega.github.io/schema/vega-lite/v4.17.0.json",
       "config": {
        "view": {
         "continuousHeight": 300,
         "continuousWidth": 400
        }
       },
       "data": {
        "url": "http://localhost:51934/db1a1cf719b6c8367f4c50782d1cc696.json"
       },
       "encoding": {
        "x": {
         "bin": {
          "maxbins": 100
         },
         "field": "reviews_per_month",
         "scale": {
          "domain": [
           0,
           10
          ]
         },
         "title": "Monthly reviews",
         "type": "quantitative"
        },
        "y": {
         "aggregate": "count",
         "stack": false,
         "title": "Count",
         "type": "quantitative"
        }
       },
       "height": 300,
       "mark": "bar",
       "title": "New York 2019 Airbnb monthly reviews per accommodation",
       "width": 400
      },
      "image/png": "[encoded data removed]",
      "text/plain": [
       "<VegaLite 4 object>\n",
       "\n",
       "If you see this message, it means the renderer has not been properly enabled\n",
       "for the frontend that you are using. For more information, see\n",
       "https://altair-viz.github.io/user_guide/troubleshooting.html\n"
      ]
     },
     "execution_count": 31,
     "metadata": {},
     "output_type": "execute_result"
    }
   ],
   "source": [
    "count_dist = alt.Chart(room_type_data).mark_bar().encode(\n",
    "    alt.X('reviews_per_month', bin=alt.Bin(maxbins=100), scale=alt.Scale(domain=(0, 10)), title = 'Monthly reviews'),\n",
    "    alt.Y('count()', title = 'Count', stack=False),\n",
    "    ).properties(\n",
    "    height=300, \n",
    "    width=400, \n",
    "    title=\"New York 2019 Airbnb monthly reviews per accommodation\"\n",
    "    )\n",
    "count_dist"
   ]
  },
  {
   "cell_type": "markdown",
   "metadata": {},
   "source": [
    "#### Pairwise comparison to identify variable correlations"
   ]
  },
  {
   "cell_type": "markdown",
   "metadata": {},
   "source": [
    "Lastly, the following matrix shows the correlation for some of our numerical variables, there is not a variable that shows a strong linear correlation with the objective variable (apart form number of reviews)."
   ]
  },
  {
   "cell_type": "code",
   "execution_count": 32,
   "metadata": {
    "tags": []
   },
   "outputs": [
    {
     "data": {
      "application/vnd.vegalite.v4+json": {
       "$schema": "https://vega.github.io/schema/vega-lite/v4.17.0.json",
       "config": {
        "view": {
         "continuousHeight": 300,
         "continuousWidth": 400
        }
       },
       "repeat": {
        "column": [
         "reviews_per_month"
        ],
        "row": [
         "price",
         "minimum_nights",
         "reviews_per_month",
         "number_of_reviews"
        ]
       },
       "spec": {
        "data": {
         "url": "http://localhost:51934/db1a1cf719b6c8367f4c50782d1cc696.json"
        },
        "encoding": {
         "x": {
          "field": {
           "repeat": "row"
          },
          "type": "quantitative"
         },
         "y": {
          "field": {
           "repeat": "column"
          },
          "type": "quantitative"
         }
        },
        "height": 200,
        "mark": {
         "opacity": 0.3,
         "size": 10,
         "type": "point"
        },
        "width": 200
       },
       "title": "Pairwise comparison"
      },
      "image/png": "[encoded data removed]",
      "text/plain": [
       "<VegaLite 4 object>\n",
       "\n",
       "If you see this message, it means the renderer has not been properly enabled\n",
       "for the frontend that you are using. For more information, see\n",
       "https://altair-viz.github.io/user_guide/troubleshooting.html\n"
      ]
     },
     "execution_count": 32,
     "metadata": {},
     "output_type": "execute_result"
    }
   ],
   "source": [
    "pair_chart = alt.Chart(room_type_data).mark_point(opacity=0.3, size=10).encode(\n",
    "     alt.X(alt.repeat('row'), type='quantitative'),\n",
    "     alt.Y(alt.repeat('column'), type='quantitative')\n",
    ").properties(\n",
    "    width=200,\n",
    "    height=200\n",
    ").repeat(\n",
    "    column=['reviews_per_month'],\n",
    "    row=['price', 'minimum_nights', 'reviews_per_month', 'number_of_reviews']\n",
    ").properties(\n",
    "    title=\"Pairwise comparison\"\n",
    "    )\n",
    "pair_chart"
   ]
  },
  {
   "cell_type": "markdown",
   "metadata": {
    "tags": []
   },
   "source": [
    "#### Summary Statistics of meaningful columns"
   ]
  },
  {
   "cell_type": "markdown",
   "metadata": {},
   "source": [
    "The following table shows the summary statistics for the numerical variables. This to have a quick overview of variable values. "
   ]
  },
  {
   "cell_type": "code",
   "execution_count": 13,
   "metadata": {
    "tags": []
   },
   "outputs": [
    {
     "data": {
      "text/html": [
       "<div>\n",
       "<style scoped>\n",
       "    .dataframe tbody tr th:only-of-type {\n",
       "        vertical-align: middle;\n",
       "    }\n",
       "\n",
       "    .dataframe tbody tr th {\n",
       "        vertical-align: top;\n",
       "    }\n",
       "\n",
       "    .dataframe thead th {\n",
       "        text-align: right;\n",
       "    }\n",
       "</style>\n",
       "<table border=\"1\" class=\"dataframe\">\n",
       "  <thead>\n",
       "    <tr style=\"text-align: right;\">\n",
       "      <th></th>\n",
       "      <th>price</th>\n",
       "      <th>minimum_nights</th>\n",
       "      <th>number_of_reviews</th>\n",
       "      <th>reviews_per_month</th>\n",
       "      <th>calculated_host_listings_count</th>\n",
       "      <th>availability_365</th>\n",
       "    </tr>\n",
       "  </thead>\n",
       "  <tbody>\n",
       "    <tr>\n",
       "      <th>count</th>\n",
       "      <td>27174.000000</td>\n",
       "      <td>27174.000000</td>\n",
       "      <td>27174.000000</td>\n",
       "      <td>27174.000000</td>\n",
       "      <td>27174.000000</td>\n",
       "      <td>27174.000000</td>\n",
       "    </tr>\n",
       "    <tr>\n",
       "      <th>mean</th>\n",
       "      <td>142.572054</td>\n",
       "      <td>5.978950</td>\n",
       "      <td>29.492714</td>\n",
       "      <td>1.372901</td>\n",
       "      <td>5.148672</td>\n",
       "      <td>114.698867</td>\n",
       "    </tr>\n",
       "    <tr>\n",
       "      <th>std</th>\n",
       "      <td>197.372055</td>\n",
       "      <td>19.249904</td>\n",
       "      <td>48.617350</td>\n",
       "      <td>1.670782</td>\n",
       "      <td>26.179356</td>\n",
       "      <td>129.534040</td>\n",
       "    </tr>\n",
       "    <tr>\n",
       "      <th>min</th>\n",
       "      <td>0.000000</td>\n",
       "      <td>1.000000</td>\n",
       "      <td>1.000000</td>\n",
       "      <td>0.010000</td>\n",
       "      <td>1.000000</td>\n",
       "      <td>0.000000</td>\n",
       "    </tr>\n",
       "    <tr>\n",
       "      <th>25%</th>\n",
       "      <td>69.000000</td>\n",
       "      <td>1.000000</td>\n",
       "      <td>3.000000</td>\n",
       "      <td>0.190000</td>\n",
       "      <td>1.000000</td>\n",
       "      <td>0.000000</td>\n",
       "    </tr>\n",
       "    <tr>\n",
       "      <th>50%</th>\n",
       "      <td>102.000000</td>\n",
       "      <td>2.000000</td>\n",
       "      <td>9.000000</td>\n",
       "      <td>0.710000</td>\n",
       "      <td>1.000000</td>\n",
       "      <td>55.000000</td>\n",
       "    </tr>\n",
       "    <tr>\n",
       "      <th>75%</th>\n",
       "      <td>170.000000</td>\n",
       "      <td>4.000000</td>\n",
       "      <td>34.000000</td>\n",
       "      <td>2.000000</td>\n",
       "      <td>2.000000</td>\n",
       "      <td>229.000000</td>\n",
       "    </tr>\n",
       "    <tr>\n",
       "      <th>max</th>\n",
       "      <td>10000.000000</td>\n",
       "      <td>1250.000000</td>\n",
       "      <td>629.000000</td>\n",
       "      <td>27.950000</td>\n",
       "      <td>327.000000</td>\n",
       "      <td>365.000000</td>\n",
       "    </tr>\n",
       "  </tbody>\n",
       "</table>\n",
       "</div>"
      ],
      "text/plain": [
       "              price  minimum_nights  number_of_reviews  reviews_per_month  \\\n",
       "count  27174.000000    27174.000000       27174.000000       27174.000000   \n",
       "mean     142.572054        5.978950          29.492714           1.372901   \n",
       "std      197.372055       19.249904          48.617350           1.670782   \n",
       "min        0.000000        1.000000           1.000000           0.010000   \n",
       "25%       69.000000        1.000000           3.000000           0.190000   \n",
       "50%      102.000000        2.000000           9.000000           0.710000   \n",
       "75%      170.000000        4.000000          34.000000           2.000000   \n",
       "max    10000.000000     1250.000000         629.000000          27.950000   \n",
       "\n",
       "       calculated_host_listings_count  availability_365  \n",
       "count                    27174.000000      27174.000000  \n",
       "mean                         5.148672        114.698867  \n",
       "std                         26.179356        129.534040  \n",
       "min                          1.000000          0.000000  \n",
       "25%                          1.000000          0.000000  \n",
       "50%                          1.000000         55.000000  \n",
       "75%                          2.000000        229.000000  \n",
       "max                        327.000000        365.000000  "
      ]
     },
     "execution_count": 13,
     "metadata": {},
     "output_type": "execute_result"
    }
   ],
   "source": [
    "train_df[['price','minimum_nights', 'number_of_reviews', \n",
    "          'reviews_per_month', 'calculated_host_listings_count',\n",
    "         'availability_365']].describe()"
   ]
  },
  {
   "cell_type": "markdown",
   "metadata": {
    "tags": []
   },
   "source": [
    "#### Summarizing initial observations"
   ]
  },
  {
   "cell_type": "markdown",
   "metadata": {},
   "source": [
    "At first glance, there are no variables that have a very strong correlation with the objective variable (beyond the number of reviews), however, the data set is very rich since we have attributes of the host, characteristics of the place and the geographical location. Therefore, the expectation is that the interactions between these variables can provide good predictive power to the machine learning model."
   ]
  },
  {
   "cell_type": "markdown",
   "metadata": {},
   "source": [
    "#### Pick appropriate metric/metrics for assessment"
   ]
  },
  {
   "cell_type": "markdown",
   "metadata": {},
   "source": [
    "I decided to use $R^2$ sklearn default scoring metric."
   ]
  },
  {
   "cell_type": "code",
   "execution_count": 14,
   "metadata": {
    "tags": []
   },
   "outputs": [],
   "source": [
    "# Date to year to treat this variable as categorical.\n",
    "train_df[\"last_review\"] = pd.to_datetime(train_df[\"last_review\"])\n",
    "train_df['last_review'] = train_df['last_review'].dt.strftime(\"%Y\")\n",
    "test_df[\"last_review\"] = pd.to_datetime(test_df[\"last_review\"])\n",
    "test_df['last_review'] = test_df['last_review'].dt.strftime(\"%Y\")"
   ]
  },
  {
   "cell_type": "markdown",
   "metadata": {},
   "source": [
    "#### Identifying transformations and building column transformer"
   ]
  },
  {
   "cell_type": "code",
   "execution_count": 15,
   "metadata": {},
   "outputs": [],
   "source": [
    "#X and y split\n",
    "X_train, y_train = train_df.drop(columns=[\"reviews_per_month\"]), train_df[\"reviews_per_month\"]\n",
    "X_test, y_test = test_df.drop(columns=[\"reviews_per_month\"]), test_df[\"reviews_per_month\"]"
   ]
  },
  {
   "cell_type": "code",
   "execution_count": 16,
   "metadata": {
    "tags": []
   },
   "outputs": [],
   "source": [
    "#Setting up transformers\n",
    "categorical_features = ['neighbourhood_group', 'neighbourhood', 'room_type', 'last_review']\n",
    "numeric_features = ['latitude', 'longitude', 'price', \n",
    "                      'minimum_nights', 'number_of_reviews', \n",
    "                      'calculated_host_listings_count', 'availability_365'] \n",
    "drop_features = ['id', 'host_id', 'host_name', 'name']\n",
    "\n",
    "categorical_transformer = OneHotEncoder(handle_unknown=\"ignore\")\n",
    "numeric_transformer = StandardScaler()\n",
    "\n",
    "# Building preprocessor pipeline\n",
    "preprocessor = make_column_transformer(\n",
    "    (\n",
    "        categorical_transformer,\n",
    "        categorical_features\n",
    "    ),\n",
    "    (\n",
    "        numeric_transformer,\n",
    "        numeric_features\n",
    "    ),\n",
    "    (\n",
    "        \"drop\", drop_features\n",
    "    )\n",
    ")"
   ]
  },
  {
   "cell_type": "markdown",
   "metadata": {},
   "source": [
    "#### Training Dummy Regressor base model "
   ]
  },
  {
   "cell_type": "code",
   "execution_count": 17,
   "metadata": {},
   "outputs": [],
   "source": [
    "def mean_std_cross_val_scores(model, X_train, y_train, **kwargs):\n",
    "    \"\"\"\n",
    "    Returns mean and std of cross validation\n",
    "\n",
    "    Parameters\n",
    "    ----------\n",
    "    model :\n",
    "        scikit-learn model\n",
    "    X_train : numpy array or pandas DataFrame\n",
    "        X in the training data\n",
    "    y_train :\n",
    "        y in the training data\n",
    "\n",
    "    Returns\n",
    "    ----------\n",
    "        pandas Series with mean scores from cross_validation\n",
    "    \"\"\"\n",
    "\n",
    "    scores = cross_validate(model, X_train, y_train, **kwargs)\n",
    "\n",
    "    mean_scores = pd.DataFrame(scores).mean()\n",
    "    std_scores = pd.DataFrame(scores).std()\n",
    "    out_col = []\n",
    "\n",
    "    for i in range(len(mean_scores)):\n",
    "        out_col.append((f\"%0.3f (+/- %0.3f)\" % (mean_scores[i], std_scores[i])))\n",
    "\n",
    "    return pd.Series(data=out_col, index=mean_scores.index)"
   ]
  },
  {
   "cell_type": "code",
   "execution_count": 18,
   "metadata": {
    "tags": []
   },
   "outputs": [
    {
     "data": {
      "text/html": [
       "<div>\n",
       "<style scoped>\n",
       "    .dataframe tbody tr th:only-of-type {\n",
       "        vertical-align: middle;\n",
       "    }\n",
       "\n",
       "    .dataframe tbody tr th {\n",
       "        vertical-align: top;\n",
       "    }\n",
       "\n",
       "    .dataframe thead th {\n",
       "        text-align: right;\n",
       "    }\n",
       "</style>\n",
       "<table border=\"1\" class=\"dataframe\">\n",
       "  <thead>\n",
       "    <tr style=\"text-align: right;\">\n",
       "      <th></th>\n",
       "      <th>fit_time</th>\n",
       "      <th>score_time</th>\n",
       "      <th>test_score</th>\n",
       "      <th>train_score</th>\n",
       "    </tr>\n",
       "  </thead>\n",
       "  <tbody>\n",
       "    <tr>\n",
       "      <th>dummy</th>\n",
       "      <td>0.020 (+/- 0.003)</td>\n",
       "      <td>0.005 (+/- 0.000)</td>\n",
       "      <td>-0.000 (+/- 0.001)</td>\n",
       "      <td>0.000 (+/- 0.000)</td>\n",
       "    </tr>\n",
       "  </tbody>\n",
       "</table>\n",
       "</div>"
      ],
      "text/plain": [
       "                fit_time         score_time          test_score  \\\n",
       "dummy  0.020 (+/- 0.003)  0.005 (+/- 0.000)  -0.000 (+/- 0.001)   \n",
       "\n",
       "             train_score  \n",
       "dummy  0.000 (+/- 0.000)  "
      ]
     },
     "execution_count": 18,
     "metadata": {},
     "output_type": "execute_result"
    }
   ],
   "source": [
    "# Fitting dummy regressor baseline model \n",
    "results_dict = {} \n",
    "dummy = DummyRegressor()\n",
    "pipe = make_pipeline(preprocessor, dummy)\n",
    "results_dict[\"dummy\"] = mean_std_cross_val_scores(\n",
    "    pipe, X_train, y_train, cv=5, return_train_score=True\n",
    ")\n",
    "results_df = pd.DataFrame(results_dict).T\n",
    "results_df"
   ]
  },
  {
   "cell_type": "markdown",
   "metadata": {},
   "source": [
    "#### First linear model - Ridge"
   ]
  },
  {
   "cell_type": "code",
   "execution_count": 19,
   "metadata": {
    "tags": []
   },
   "outputs": [
    {
     "data": {
      "text/html": [
       "<div>\n",
       "<style scoped>\n",
       "    .dataframe tbody tr th:only-of-type {\n",
       "        vertical-align: middle;\n",
       "    }\n",
       "\n",
       "    .dataframe tbody tr th {\n",
       "        vertical-align: top;\n",
       "    }\n",
       "\n",
       "    .dataframe thead th {\n",
       "        text-align: right;\n",
       "    }\n",
       "</style>\n",
       "<table border=\"1\" class=\"dataframe\">\n",
       "  <thead>\n",
       "    <tr style=\"text-align: right;\">\n",
       "      <th></th>\n",
       "      <th>fit_time</th>\n",
       "      <th>score_time</th>\n",
       "      <th>test_score</th>\n",
       "      <th>train_score</th>\n",
       "    </tr>\n",
       "  </thead>\n",
       "  <tbody>\n",
       "    <tr>\n",
       "      <th>dummy</th>\n",
       "      <td>0.020 (+/- 0.003)</td>\n",
       "      <td>0.005 (+/- 0.000)</td>\n",
       "      <td>-0.000 (+/- 0.001)</td>\n",
       "      <td>0.000 (+/- 0.000)</td>\n",
       "    </tr>\n",
       "    <tr>\n",
       "      <th>ridge</th>\n",
       "      <td>0.041 (+/- 0.007)</td>\n",
       "      <td>0.006 (+/- 0.000)</td>\n",
       "      <td>0.449 (+/- 0.016)</td>\n",
       "      <td>0.461 (+/- 0.004)</td>\n",
       "    </tr>\n",
       "  </tbody>\n",
       "</table>\n",
       "</div>"
      ],
      "text/plain": [
       "                fit_time         score_time          test_score  \\\n",
       "dummy  0.020 (+/- 0.003)  0.005 (+/- 0.000)  -0.000 (+/- 0.001)   \n",
       "ridge  0.041 (+/- 0.007)  0.006 (+/- 0.000)   0.449 (+/- 0.016)   \n",
       "\n",
       "             train_score  \n",
       "dummy  0.000 (+/- 0.000)  \n",
       "ridge  0.461 (+/- 0.004)  "
      ]
     },
     "execution_count": 19,
     "metadata": {},
     "output_type": "execute_result"
    }
   ],
   "source": [
    "# Cross validation for Ridge model\n",
    "ridge = Ridge(random_state=123)\n",
    "pipe_ridge = make_pipeline(preprocessor, ridge)\n",
    "results_dict[\"ridge\"] = mean_std_cross_val_scores(\n",
    "    pipe_ridge, X_train, y_train, cv=5, return_train_score=True\n",
    ")\n",
    "results_df = pd.DataFrame(results_dict).T\n",
    "results_df"
   ]
  },
  {
   "cell_type": "markdown",
   "metadata": {
    "tags": []
   },
   "source": [
    "#### Hyperparameter tunning"
   ]
  },
  {
   "cell_type": "code",
   "execution_count": 20,
   "metadata": {},
   "outputs": [
    {
     "data": {
      "text/plain": [
       "(20.740241962891858, 0.4509056866278026)"
      ]
     },
     "execution_count": 20,
     "metadata": {},
     "output_type": "execute_result"
    }
   ],
   "source": [
    "# Alpha Hyper parameter tunning for Ridge model \n",
    "param_dist = {\"ridge__alpha\": loguniform(1e-3, 1e3)}\n",
    "\n",
    "pipe_rid = make_pipeline(preprocessor, Ridge(random_state=123))\n",
    "\n",
    "search_rand = RandomizedSearchCV(\n",
    "    pipe_rid, param_dist, return_train_score=True, n_jobs=-1, n_iter=20, random_state=123\n",
    ")\n",
    "search_rand.fit(X_train, y_train)\n",
    "best_params = search_rand.best_params_['ridge__alpha']\n",
    "best_score = search_rand.best_score_\n",
    "best_params, best_score"
   ]
  },
  {
   "cell_type": "markdown",
   "metadata": {},
   "source": [
    "#### Linear model Ridge with for optimized alpha"
   ]
  },
  {
   "cell_type": "code",
   "execution_count": 21,
   "metadata": {},
   "outputs": [
    {
     "data": {
      "text/html": [
       "<div>\n",
       "<style scoped>\n",
       "    .dataframe tbody tr th:only-of-type {\n",
       "        vertical-align: middle;\n",
       "    }\n",
       "\n",
       "    .dataframe tbody tr th {\n",
       "        vertical-align: top;\n",
       "    }\n",
       "\n",
       "    .dataframe thead th {\n",
       "        text-align: right;\n",
       "    }\n",
       "</style>\n",
       "<table border=\"1\" class=\"dataframe\">\n",
       "  <thead>\n",
       "    <tr style=\"text-align: right;\">\n",
       "      <th></th>\n",
       "      <th>fit_time</th>\n",
       "      <th>score_time</th>\n",
       "      <th>test_score</th>\n",
       "      <th>train_score</th>\n",
       "    </tr>\n",
       "  </thead>\n",
       "  <tbody>\n",
       "    <tr>\n",
       "      <th>dummy</th>\n",
       "      <td>0.020 (+/- 0.003)</td>\n",
       "      <td>0.005 (+/- 0.000)</td>\n",
       "      <td>-0.000 (+/- 0.001)</td>\n",
       "      <td>0.000 (+/- 0.000)</td>\n",
       "    </tr>\n",
       "    <tr>\n",
       "      <th>ridge</th>\n",
       "      <td>0.041 (+/- 0.007)</td>\n",
       "      <td>0.006 (+/- 0.000)</td>\n",
       "      <td>0.449 (+/- 0.016)</td>\n",
       "      <td>0.461 (+/- 0.004)</td>\n",
       "    </tr>\n",
       "    <tr>\n",
       "      <th>ridge_opt</th>\n",
       "      <td>0.029 (+/- 0.003)</td>\n",
       "      <td>0.005 (+/- 0.000)</td>\n",
       "      <td>0.451 (+/- 0.015)</td>\n",
       "      <td>0.458 (+/- 0.004)</td>\n",
       "    </tr>\n",
       "  </tbody>\n",
       "</table>\n",
       "</div>"
      ],
      "text/plain": [
       "                    fit_time         score_time          test_score  \\\n",
       "dummy      0.020 (+/- 0.003)  0.005 (+/- 0.000)  -0.000 (+/- 0.001)   \n",
       "ridge      0.041 (+/- 0.007)  0.006 (+/- 0.000)   0.449 (+/- 0.016)   \n",
       "ridge_opt  0.029 (+/- 0.003)  0.005 (+/- 0.000)   0.451 (+/- 0.015)   \n",
       "\n",
       "                 train_score  \n",
       "dummy      0.000 (+/- 0.000)  \n",
       "ridge      0.461 (+/- 0.004)  \n",
       "ridge_opt  0.458 (+/- 0.004)  "
      ]
     },
     "execution_count": 21,
     "metadata": {},
     "output_type": "execute_result"
    }
   ],
   "source": [
    "# Reporting validation scores for optimized model\n",
    "ridge_opt = Ridge(alpha=best_params)\n",
    "pipe_ridge_opt = make_pipeline(preprocessor, ridge_opt)\n",
    "results_dict[\"ridge_opt\"] = mean_std_cross_val_scores(\n",
    "    pipe_ridge_opt, X_train, y_train, cv=5, return_train_score=True\n",
    ")\n",
    "results_df = pd.DataFrame(results_dict).T\n",
    "results_df"
   ]
  },
  {
   "cell_type": "markdown",
   "metadata": {},
   "source": [
    "#### Results summary"
   ]
  },
  {
   "cell_type": "markdown",
   "metadata": {},
   "source": [
    "The first linear model has an acceptable cross-validation score but with space for improvement, in addition, both training and validation scores improved but marginally. Regarding the fit time, the model fits fast considering the size of our data set."
   ]
  },
  {
   "cell_type": "markdown",
   "metadata": {},
   "source": [
    "#### Building KNeighborsRegressor, RBF SVR and Gradient Boosting"
   ]
  },
  {
   "cell_type": "code",
   "execution_count": 22,
   "metadata": {
    "tags": []
   },
   "outputs": [
    {
     "data": {
      "text/html": [
       "<div>\n",
       "<style scoped>\n",
       "    .dataframe tbody tr th:only-of-type {\n",
       "        vertical-align: middle;\n",
       "    }\n",
       "\n",
       "    .dataframe tbody tr th {\n",
       "        vertical-align: top;\n",
       "    }\n",
       "\n",
       "    .dataframe thead th {\n",
       "        text-align: right;\n",
       "    }\n",
       "</style>\n",
       "<table border=\"1\" class=\"dataframe\">\n",
       "  <thead>\n",
       "    <tr style=\"text-align: right;\">\n",
       "      <th></th>\n",
       "      <th>fit_time</th>\n",
       "      <th>score_time</th>\n",
       "      <th>test_score</th>\n",
       "      <th>train_score</th>\n",
       "    </tr>\n",
       "  </thead>\n",
       "  <tbody>\n",
       "    <tr>\n",
       "      <th>dummy</th>\n",
       "      <td>0.020 (+/- 0.003)</td>\n",
       "      <td>0.005 (+/- 0.000)</td>\n",
       "      <td>-0.000 (+/- 0.001)</td>\n",
       "      <td>0.000 (+/- 0.000)</td>\n",
       "    </tr>\n",
       "    <tr>\n",
       "      <th>ridge</th>\n",
       "      <td>0.041 (+/- 0.007)</td>\n",
       "      <td>0.006 (+/- 0.000)</td>\n",
       "      <td>0.449 (+/- 0.016)</td>\n",
       "      <td>0.461 (+/- 0.004)</td>\n",
       "    </tr>\n",
       "    <tr>\n",
       "      <th>ridge_opt</th>\n",
       "      <td>0.029 (+/- 0.003)</td>\n",
       "      <td>0.005 (+/- 0.000)</td>\n",
       "      <td>0.451 (+/- 0.015)</td>\n",
       "      <td>0.458 (+/- 0.004)</td>\n",
       "    </tr>\n",
       "    <tr>\n",
       "      <th>KNN</th>\n",
       "      <td>0.019 (+/- 0.001)</td>\n",
       "      <td>3.692 (+/- 0.199)</td>\n",
       "      <td>0.435 (+/- 0.013)</td>\n",
       "      <td>0.627 (+/- 0.004)</td>\n",
       "    </tr>\n",
       "    <tr>\n",
       "      <th>RBF SVR</th>\n",
       "      <td>11.659 (+/- 0.070)</td>\n",
       "      <td>1.692 (+/- 0.005)</td>\n",
       "      <td>0.488 (+/- 0.011)</td>\n",
       "      <td>0.509 (+/- 0.002)</td>\n",
       "    </tr>\n",
       "    <tr>\n",
       "      <th>Gradient Boosting</th>\n",
       "      <td>2.265 (+/- 0.011)</td>\n",
       "      <td>0.011 (+/- 0.001)</td>\n",
       "      <td>0.565 (+/- 0.010)</td>\n",
       "      <td>0.592 (+/- 0.003)</td>\n",
       "    </tr>\n",
       "  </tbody>\n",
       "</table>\n",
       "</div>"
      ],
      "text/plain": [
       "                             fit_time         score_time          test_score  \\\n",
       "dummy               0.020 (+/- 0.003)  0.005 (+/- 0.000)  -0.000 (+/- 0.001)   \n",
       "ridge               0.041 (+/- 0.007)  0.006 (+/- 0.000)   0.449 (+/- 0.016)   \n",
       "ridge_opt           0.029 (+/- 0.003)  0.005 (+/- 0.000)   0.451 (+/- 0.015)   \n",
       "KNN                 0.019 (+/- 0.001)  3.692 (+/- 0.199)   0.435 (+/- 0.013)   \n",
       "RBF SVR            11.659 (+/- 0.070)  1.692 (+/- 0.005)   0.488 (+/- 0.011)   \n",
       "Gradient Boosting   2.265 (+/- 0.011)  0.011 (+/- 0.001)   0.565 (+/- 0.010)   \n",
       "\n",
       "                         train_score  \n",
       "dummy              0.000 (+/- 0.000)  \n",
       "ridge              0.461 (+/- 0.004)  \n",
       "ridge_opt          0.458 (+/- 0.004)  \n",
       "KNN                0.627 (+/- 0.004)  \n",
       "RBF SVR            0.509 (+/- 0.002)  \n",
       "Gradient Boosting  0.592 (+/- 0.003)  "
      ]
     },
     "execution_count": 22,
     "metadata": {},
     "output_type": "execute_result"
    }
   ],
   "source": [
    "# Passing all three models to cross validation\n",
    "models = {\n",
    "    \"KNN\": KNeighborsRegressor(),\n",
    "    \"RBF SVR\": SVR(),\n",
    "    \"Gradient Boosting\":GradientBoostingRegressor(random_state=123)\n",
    "}\n",
    "for model_name, model in models.items():\n",
    "    pipe = make_pipeline(preprocessor, model)\n",
    "    results_dict[model_name] = mean_std_cross_val_scores(pipe,\n",
    "                                                         X_train, \n",
    "                                                         y_train, \n",
    "                                                         return_train_score=True)\n",
    "\n",
    "results_df = pd.DataFrame(results_dict).T\n",
    "results_df"
   ]
  },
  {
   "cell_type": "markdown",
   "metadata": {},
   "source": [
    "#### Building XGBoost and LGBoostingMachine\n",
    "\n",
    "As a curiosity exercise, I will try addition gradient boosting machine frameworks to see how they perform."
   ]
  },
  {
   "cell_type": "code",
   "execution_count": 23,
   "metadata": {},
   "outputs": [
    {
     "data": {
      "text/html": [
       "<div>\n",
       "<style scoped>\n",
       "    .dataframe tbody tr th:only-of-type {\n",
       "        vertical-align: middle;\n",
       "    }\n",
       "\n",
       "    .dataframe tbody tr th {\n",
       "        vertical-align: top;\n",
       "    }\n",
       "\n",
       "    .dataframe thead th {\n",
       "        text-align: right;\n",
       "    }\n",
       "</style>\n",
       "<table border=\"1\" class=\"dataframe\">\n",
       "  <thead>\n",
       "    <tr style=\"text-align: right;\">\n",
       "      <th></th>\n",
       "      <th>fit_time</th>\n",
       "      <th>score_time</th>\n",
       "      <th>test_score</th>\n",
       "      <th>train_score</th>\n",
       "    </tr>\n",
       "  </thead>\n",
       "  <tbody>\n",
       "    <tr>\n",
       "      <th>dummy</th>\n",
       "      <td>0.020 (+/- 0.003)</td>\n",
       "      <td>0.005 (+/- 0.000)</td>\n",
       "      <td>-0.000 (+/- 0.001)</td>\n",
       "      <td>0.000 (+/- 0.000)</td>\n",
       "    </tr>\n",
       "    <tr>\n",
       "      <th>ridge</th>\n",
       "      <td>0.041 (+/- 0.007)</td>\n",
       "      <td>0.006 (+/- 0.000)</td>\n",
       "      <td>0.449 (+/- 0.016)</td>\n",
       "      <td>0.461 (+/- 0.004)</td>\n",
       "    </tr>\n",
       "    <tr>\n",
       "      <th>ridge_opt</th>\n",
       "      <td>0.029 (+/- 0.003)</td>\n",
       "      <td>0.005 (+/- 0.000)</td>\n",
       "      <td>0.451 (+/- 0.015)</td>\n",
       "      <td>0.458 (+/- 0.004)</td>\n",
       "    </tr>\n",
       "    <tr>\n",
       "      <th>KNN</th>\n",
       "      <td>0.019 (+/- 0.001)</td>\n",
       "      <td>3.692 (+/- 0.199)</td>\n",
       "      <td>0.435 (+/- 0.013)</td>\n",
       "      <td>0.627 (+/- 0.004)</td>\n",
       "    </tr>\n",
       "    <tr>\n",
       "      <th>RBF SVR</th>\n",
       "      <td>11.659 (+/- 0.070)</td>\n",
       "      <td>1.692 (+/- 0.005)</td>\n",
       "      <td>0.488 (+/- 0.011)</td>\n",
       "      <td>0.509 (+/- 0.002)</td>\n",
       "    </tr>\n",
       "    <tr>\n",
       "      <th>Gradient Boosting</th>\n",
       "      <td>2.265 (+/- 0.011)</td>\n",
       "      <td>0.011 (+/- 0.001)</td>\n",
       "      <td>0.565 (+/- 0.010)</td>\n",
       "      <td>0.592 (+/- 0.003)</td>\n",
       "    </tr>\n",
       "    <tr>\n",
       "      <th>LGBMR</th>\n",
       "      <td>0.294 (+/- 0.013)</td>\n",
       "      <td>0.011 (+/- 0.000)</td>\n",
       "      <td>0.597 (+/- 0.009)</td>\n",
       "      <td>0.682 (+/- 0.002)</td>\n",
       "    </tr>\n",
       "    <tr>\n",
       "      <th>XGBR</th>\n",
       "      <td>0.527 (+/- 0.004)</td>\n",
       "      <td>0.009 (+/- 0.000)</td>\n",
       "      <td>0.585 (+/- 0.010)</td>\n",
       "      <td>0.738 (+/- 0.003)</td>\n",
       "    </tr>\n",
       "  </tbody>\n",
       "</table>\n",
       "</div>"
      ],
      "text/plain": [
       "                             fit_time         score_time          test_score  \\\n",
       "dummy               0.020 (+/- 0.003)  0.005 (+/- 0.000)  -0.000 (+/- 0.001)   \n",
       "ridge               0.041 (+/- 0.007)  0.006 (+/- 0.000)   0.449 (+/- 0.016)   \n",
       "ridge_opt           0.029 (+/- 0.003)  0.005 (+/- 0.000)   0.451 (+/- 0.015)   \n",
       "KNN                 0.019 (+/- 0.001)  3.692 (+/- 0.199)   0.435 (+/- 0.013)   \n",
       "RBF SVR            11.659 (+/- 0.070)  1.692 (+/- 0.005)   0.488 (+/- 0.011)   \n",
       "Gradient Boosting   2.265 (+/- 0.011)  0.011 (+/- 0.001)   0.565 (+/- 0.010)   \n",
       "LGBMR               0.294 (+/- 0.013)  0.011 (+/- 0.000)   0.597 (+/- 0.009)   \n",
       "XGBR                0.527 (+/- 0.004)  0.009 (+/- 0.000)   0.585 (+/- 0.010)   \n",
       "\n",
       "                         train_score  \n",
       "dummy              0.000 (+/- 0.000)  \n",
       "ridge              0.461 (+/- 0.004)  \n",
       "ridge_opt          0.458 (+/- 0.004)  \n",
       "KNN                0.627 (+/- 0.004)  \n",
       "RBF SVR            0.509 (+/- 0.002)  \n",
       "Gradient Boosting  0.592 (+/- 0.003)  \n",
       "LGBMR              0.682 (+/- 0.002)  \n",
       "XGBR               0.738 (+/- 0.003)  "
      ]
     },
     "execution_count": 23,
     "metadata": {},
     "output_type": "execute_result"
    }
   ],
   "source": [
    "# Passing gradient boosting machines to cross validation\n",
    "models = {\n",
    "    \"LGBMR\": LGBMRegressor(random_state=123),\n",
    "    \"XGBR\": XGBRegressor(random_state=123),\n",
    "}\n",
    "for model_name, model in models.items():\n",
    "    pipe = make_pipeline(preprocessor, model)\n",
    "    results_dict[model_name] = mean_std_cross_val_scores(pipe,\n",
    "                                                         X_train, \n",
    "                                                         y_train, \n",
    "                                                         return_train_score=True)\n",
    "\n",
    "results_df = pd.DataFrame(results_dict).T\n",
    "results_df"
   ]
  },
  {
   "cell_type": "markdown",
   "metadata": {},
   "source": [
    "#### Summarizing results"
   ]
  },
  {
   "cell_type": "markdown",
   "metadata": {},
   "source": [
    "Light Gradient Boosting Machine Regressor shows the best performance among all the models, actually the three gradient boosting models performances are similar, with the difference that both `LGBMR` and `XGBR` seem to be operating in the overfitting area. Regarding training times, `LGBMR` has the advantage among the Boosting Machines while `RBF SVR` is by far the one with the highest fit time.\n",
    "\n",
    "Since the Light Gradient Boosting Machine Regressor has the best validation score and the fastest fit time I'll use that as my model for the following exercises, hoping to alleviate the overfitting."
   ]
  },
  {
   "cell_type": "markdown",
   "metadata": {},
   "source": [
    "#### Feature selection using RFECV"
   ]
  },
  {
   "cell_type": "code",
   "execution_count": 24,
   "metadata": {
    "tags": []
   },
   "outputs": [
    {
     "data": {
      "text/html": [
       "<div>\n",
       "<style scoped>\n",
       "    .dataframe tbody tr th:only-of-type {\n",
       "        vertical-align: middle;\n",
       "    }\n",
       "\n",
       "    .dataframe tbody tr th {\n",
       "        vertical-align: top;\n",
       "    }\n",
       "\n",
       "    .dataframe thead th {\n",
       "        text-align: right;\n",
       "    }\n",
       "</style>\n",
       "<table border=\"1\" class=\"dataframe\">\n",
       "  <thead>\n",
       "    <tr style=\"text-align: right;\">\n",
       "      <th></th>\n",
       "      <th>fit_time</th>\n",
       "      <th>score_time</th>\n",
       "      <th>test_score</th>\n",
       "      <th>train_score</th>\n",
       "    </tr>\n",
       "  </thead>\n",
       "  <tbody>\n",
       "    <tr>\n",
       "      <th>dummy</th>\n",
       "      <td>0.020 (+/- 0.003)</td>\n",
       "      <td>0.005 (+/- 0.000)</td>\n",
       "      <td>-0.000 (+/- 0.001)</td>\n",
       "      <td>0.000 (+/- 0.000)</td>\n",
       "    </tr>\n",
       "    <tr>\n",
       "      <th>ridge</th>\n",
       "      <td>0.041 (+/- 0.007)</td>\n",
       "      <td>0.006 (+/- 0.000)</td>\n",
       "      <td>0.449 (+/- 0.016)</td>\n",
       "      <td>0.461 (+/- 0.004)</td>\n",
       "    </tr>\n",
       "    <tr>\n",
       "      <th>ridge_opt</th>\n",
       "      <td>0.029 (+/- 0.003)</td>\n",
       "      <td>0.005 (+/- 0.000)</td>\n",
       "      <td>0.451 (+/- 0.015)</td>\n",
       "      <td>0.458 (+/- 0.004)</td>\n",
       "    </tr>\n",
       "    <tr>\n",
       "      <th>KNN</th>\n",
       "      <td>0.019 (+/- 0.001)</td>\n",
       "      <td>3.692 (+/- 0.199)</td>\n",
       "      <td>0.435 (+/- 0.013)</td>\n",
       "      <td>0.627 (+/- 0.004)</td>\n",
       "    </tr>\n",
       "    <tr>\n",
       "      <th>RBF SVR</th>\n",
       "      <td>11.659 (+/- 0.070)</td>\n",
       "      <td>1.692 (+/- 0.005)</td>\n",
       "      <td>0.488 (+/- 0.011)</td>\n",
       "      <td>0.509 (+/- 0.002)</td>\n",
       "    </tr>\n",
       "    <tr>\n",
       "      <th>Gradient Boosting</th>\n",
       "      <td>2.265 (+/- 0.011)</td>\n",
       "      <td>0.011 (+/- 0.001)</td>\n",
       "      <td>0.565 (+/- 0.010)</td>\n",
       "      <td>0.592 (+/- 0.003)</td>\n",
       "    </tr>\n",
       "    <tr>\n",
       "      <th>LGBMR</th>\n",
       "      <td>0.294 (+/- 0.013)</td>\n",
       "      <td>0.011 (+/- 0.000)</td>\n",
       "      <td>0.597 (+/- 0.009)</td>\n",
       "      <td>0.682 (+/- 0.002)</td>\n",
       "    </tr>\n",
       "    <tr>\n",
       "      <th>XGBR</th>\n",
       "      <td>0.527 (+/- 0.004)</td>\n",
       "      <td>0.009 (+/- 0.000)</td>\n",
       "      <td>0.585 (+/- 0.010)</td>\n",
       "      <td>0.738 (+/- 0.003)</td>\n",
       "    </tr>\n",
       "    <tr>\n",
       "      <th>RFECV</th>\n",
       "      <td>24.109 (+/- 0.866)</td>\n",
       "      <td>0.013 (+/- 0.002)</td>\n",
       "      <td>0.587 (+/- 0.013)</td>\n",
       "      <td>0.671 (+/- 0.007)</td>\n",
       "    </tr>\n",
       "  </tbody>\n",
       "</table>\n",
       "</div>"
      ],
      "text/plain": [
       "                             fit_time         score_time          test_score  \\\n",
       "dummy               0.020 (+/- 0.003)  0.005 (+/- 0.000)  -0.000 (+/- 0.001)   \n",
       "ridge               0.041 (+/- 0.007)  0.006 (+/- 0.000)   0.449 (+/- 0.016)   \n",
       "ridge_opt           0.029 (+/- 0.003)  0.005 (+/- 0.000)   0.451 (+/- 0.015)   \n",
       "KNN                 0.019 (+/- 0.001)  3.692 (+/- 0.199)   0.435 (+/- 0.013)   \n",
       "RBF SVR            11.659 (+/- 0.070)  1.692 (+/- 0.005)   0.488 (+/- 0.011)   \n",
       "Gradient Boosting   2.265 (+/- 0.011)  0.011 (+/- 0.001)   0.565 (+/- 0.010)   \n",
       "LGBMR               0.294 (+/- 0.013)  0.011 (+/- 0.000)   0.597 (+/- 0.009)   \n",
       "XGBR                0.527 (+/- 0.004)  0.009 (+/- 0.000)   0.585 (+/- 0.010)   \n",
       "RFECV              24.109 (+/- 0.866)  0.013 (+/- 0.002)   0.587 (+/- 0.013)   \n",
       "\n",
       "                         train_score  \n",
       "dummy              0.000 (+/- 0.000)  \n",
       "ridge              0.461 (+/- 0.004)  \n",
       "ridge_opt          0.458 (+/- 0.004)  \n",
       "KNN                0.627 (+/- 0.004)  \n",
       "RBF SVR            0.509 (+/- 0.002)  \n",
       "Gradient Boosting  0.592 (+/- 0.003)  \n",
       "LGBMR              0.682 (+/- 0.002)  \n",
       "XGBR               0.738 (+/- 0.003)  \n",
       "RFECV              0.671 (+/- 0.007)  "
      ]
     },
     "execution_count": 24,
     "metadata": {},
     "output_type": "execute_result"
    }
   ],
   "source": [
    "# Building pipeline using RFECV\n",
    "pipe_rfe_boost = make_pipeline(preprocessor, \n",
    "                                 RFECV(Ridge(random_state=123), cv=10), \n",
    "                                 LGBMRegressor(random_state=123))\n",
    "\n",
    "results_dict[\"RFECV\"] = mean_std_cross_val_scores(pipe_rfe_boost, \n",
    "                                                  X_train, \n",
    "                                                  y_train, \n",
    "                                                  return_train_score=True)\n",
    "\n",
    "results_df = pd.DataFrame(results_dict).T\n",
    "results_df"
   ]
  },
  {
   "cell_type": "markdown",
   "metadata": {},
   "source": [
    "#### Do the results improve with feature selection?\n",
    "\n",
    "`RFECV` validation score is similar to `LGBMR`, however, the fit time increases by a huge margin, given the computational resources I have, I am going to discard this stage of my pipeline."
   ]
  },
  {
   "cell_type": "markdown",
   "metadata": {},
   "source": [
    "#### Light Gradient Boosting Machine Regressor hyperparameter optimization"
   ]
  },
  {
   "cell_type": "code",
   "execution_count": 25,
   "metadata": {
    "tags": []
   },
   "outputs": [
    {
     "data": {
      "text/html": [
       "<style>#sk-container-id-1 {color: black;background-color: white;}#sk-container-id-1 pre{padding: 0;}#sk-container-id-1 div.sk-toggleable {background-color: white;}#sk-container-id-1 label.sk-toggleable__label {cursor: pointer;display: block;width: 100%;margin-bottom: 0;padding: 0.3em;box-sizing: border-box;text-align: center;}#sk-container-id-1 label.sk-toggleable__label-arrow:before {content: \"▸\";float: left;margin-right: 0.25em;color: #696969;}#sk-container-id-1 label.sk-toggleable__label-arrow:hover:before {color: black;}#sk-container-id-1 div.sk-estimator:hover label.sk-toggleable__label-arrow:before {color: black;}#sk-container-id-1 div.sk-toggleable__content {max-height: 0;max-width: 0;overflow: hidden;text-align: left;background-color: #f0f8ff;}#sk-container-id-1 div.sk-toggleable__content pre {margin: 0.2em;color: black;border-radius: 0.25em;background-color: #f0f8ff;}#sk-container-id-1 input.sk-toggleable__control:checked~div.sk-toggleable__content {max-height: 200px;max-width: 100%;overflow: auto;}#sk-container-id-1 input.sk-toggleable__control:checked~label.sk-toggleable__label-arrow:before {content: \"▾\";}#sk-container-id-1 div.sk-estimator input.sk-toggleable__control:checked~label.sk-toggleable__label {background-color: #d4ebff;}#sk-container-id-1 div.sk-label input.sk-toggleable__control:checked~label.sk-toggleable__label {background-color: #d4ebff;}#sk-container-id-1 input.sk-hidden--visually {border: 0;clip: rect(1px 1px 1px 1px);clip: rect(1px, 1px, 1px, 1px);height: 1px;margin: -1px;overflow: hidden;padding: 0;position: absolute;width: 1px;}#sk-container-id-1 div.sk-estimator {font-family: monospace;background-color: #f0f8ff;border: 1px dotted black;border-radius: 0.25em;box-sizing: border-box;margin-bottom: 0.5em;}#sk-container-id-1 div.sk-estimator:hover {background-color: #d4ebff;}#sk-container-id-1 div.sk-parallel-item::after {content: \"\";width: 100%;border-bottom: 1px solid gray;flex-grow: 1;}#sk-container-id-1 div.sk-label:hover label.sk-toggleable__label {background-color: #d4ebff;}#sk-container-id-1 div.sk-serial::before {content: \"\";position: absolute;border-left: 1px solid gray;box-sizing: border-box;top: 0;bottom: 0;left: 50%;z-index: 0;}#sk-container-id-1 div.sk-serial {display: flex;flex-direction: column;align-items: center;background-color: white;padding-right: 0.2em;padding-left: 0.2em;position: relative;}#sk-container-id-1 div.sk-item {position: relative;z-index: 1;}#sk-container-id-1 div.sk-parallel {display: flex;align-items: stretch;justify-content: center;background-color: white;position: relative;}#sk-container-id-1 div.sk-item::before, #sk-container-id-1 div.sk-parallel-item::before {content: \"\";position: absolute;border-left: 1px solid gray;box-sizing: border-box;top: 0;bottom: 0;left: 50%;z-index: -1;}#sk-container-id-1 div.sk-parallel-item {display: flex;flex-direction: column;z-index: 1;position: relative;background-color: white;}#sk-container-id-1 div.sk-parallel-item:first-child::after {align-self: flex-end;width: 50%;}#sk-container-id-1 div.sk-parallel-item:last-child::after {align-self: flex-start;width: 50%;}#sk-container-id-1 div.sk-parallel-item:only-child::after {width: 0;}#sk-container-id-1 div.sk-dashed-wrapped {border: 1px dashed gray;margin: 0 0.4em 0.5em 0.4em;box-sizing: border-box;padding-bottom: 0.4em;background-color: white;}#sk-container-id-1 div.sk-label label {font-family: monospace;font-weight: bold;display: inline-block;line-height: 1.2em;}#sk-container-id-1 div.sk-label-container {text-align: center;}#sk-container-id-1 div.sk-container {/* jupyter's `normalize.less` sets `[hidden] { display: none; }` but bootstrap.min.css set `[hidden] { display: none !important; }` so we also need the `!important` here to be able to override the default hidden behavior on the sphinx rendered scikit-learn.org. See: https://github.com/scikit-learn/scikit-learn/issues/21755 */display: inline-block !important;position: relative;}#sk-container-id-1 div.sk-text-repr-fallback {display: none;}</style><div id=\"sk-container-id-1\" class=\"sk-top-container\"><div class=\"sk-text-repr-fallback\"><pre>RandomizedSearchCV(estimator=Pipeline(steps=[(&#x27;columntransformer&#x27;,\n",
       "                                              ColumnTransformer(transformers=[(&#x27;onehotencoder&#x27;,\n",
       "                                                                               OneHotEncoder(handle_unknown=&#x27;ignore&#x27;),\n",
       "                                                                               [&#x27;neighbourhood_group&#x27;,\n",
       "                                                                                &#x27;neighbourhood&#x27;,\n",
       "                                                                                &#x27;room_type&#x27;,\n",
       "                                                                                &#x27;last_review&#x27;]),\n",
       "                                                                              (&#x27;standardscaler&#x27;,\n",
       "                                                                               StandardScaler(),\n",
       "                                                                               [&#x27;latitude&#x27;,\n",
       "                                                                                &#x27;longitude&#x27;,\n",
       "                                                                                &#x27;price&#x27;,\n",
       "                                                                                &#x27;minimum_nights&#x27;,\n",
       "                                                                                &#x27;number_of_reviews&#x27;,\n",
       "                                                                                &#x27;calculated_host_listings_count&#x27;,\n",
       "                                                                                &#x27;availability_365&#x27;]),\n",
       "                                                                              (&#x27;drop&#x27;,\n",
       "                                                                               &#x27;drop&#x27;,\n",
       "                                                                               [&#x27;id&#x27;,\n",
       "                                                                                &#x27;host_id&#x27;,\n",
       "                                                                                &#x27;host_name&#x27;,\n",
       "                                                                                &#x27;name&#x27;])])),\n",
       "                                             (&#x27;lgbmregressor&#x27;,\n",
       "                                              LGBMRegressor(random_state=123))]),\n",
       "                   n_iter=200, n_jobs=-1,\n",
       "                   param_distributions={&#x27;lgbmregressor__max_depth&#x27;: [2, 3, 4, 5,\n",
       "                                                                     7, 8, 9,\n",
       "                                                                     10],\n",
       "                                        &#x27;lgbmregressor__n_estimators&#x27;: range(1, 200)},\n",
       "                   random_state=123, return_train_score=True)</pre><b>In a Jupyter environment, please rerun this cell to show the HTML representation or trust the notebook. <br />On GitHub, the HTML representation is unable to render, please try loading this page with nbviewer.org.</b></div><div class=\"sk-container\" hidden><div class=\"sk-item sk-dashed-wrapped\"><div class=\"sk-label-container\"><div class=\"sk-label sk-toggleable\"><input class=\"sk-toggleable__control sk-hidden--visually\" id=\"sk-estimator-id-1\" type=\"checkbox\" ><label for=\"sk-estimator-id-1\" class=\"sk-toggleable__label sk-toggleable__label-arrow\">RandomizedSearchCV</label><div class=\"sk-toggleable__content\"><pre>RandomizedSearchCV(estimator=Pipeline(steps=[(&#x27;columntransformer&#x27;,\n",
       "                                              ColumnTransformer(transformers=[(&#x27;onehotencoder&#x27;,\n",
       "                                                                               OneHotEncoder(handle_unknown=&#x27;ignore&#x27;),\n",
       "                                                                               [&#x27;neighbourhood_group&#x27;,\n",
       "                                                                                &#x27;neighbourhood&#x27;,\n",
       "                                                                                &#x27;room_type&#x27;,\n",
       "                                                                                &#x27;last_review&#x27;]),\n",
       "                                                                              (&#x27;standardscaler&#x27;,\n",
       "                                                                               StandardScaler(),\n",
       "                                                                               [&#x27;latitude&#x27;,\n",
       "                                                                                &#x27;longitude&#x27;,\n",
       "                                                                                &#x27;price&#x27;,\n",
       "                                                                                &#x27;minimum_nights&#x27;,\n",
       "                                                                                &#x27;number_of_reviews&#x27;,\n",
       "                                                                                &#x27;calculated_host_listings_count&#x27;,\n",
       "                                                                                &#x27;availability_365&#x27;]),\n",
       "                                                                              (&#x27;drop&#x27;,\n",
       "                                                                               &#x27;drop&#x27;,\n",
       "                                                                               [&#x27;id&#x27;,\n",
       "                                                                                &#x27;host_id&#x27;,\n",
       "                                                                                &#x27;host_name&#x27;,\n",
       "                                                                                &#x27;name&#x27;])])),\n",
       "                                             (&#x27;lgbmregressor&#x27;,\n",
       "                                              LGBMRegressor(random_state=123))]),\n",
       "                   n_iter=200, n_jobs=-1,\n",
       "                   param_distributions={&#x27;lgbmregressor__max_depth&#x27;: [2, 3, 4, 5,\n",
       "                                                                     7, 8, 9,\n",
       "                                                                     10],\n",
       "                                        &#x27;lgbmregressor__n_estimators&#x27;: range(1, 200)},\n",
       "                   random_state=123, return_train_score=True)</pre></div></div></div><div class=\"sk-parallel\"><div class=\"sk-parallel-item\"><div class=\"sk-item\"><div class=\"sk-label-container\"><div class=\"sk-label sk-toggleable\"><input class=\"sk-toggleable__control sk-hidden--visually\" id=\"sk-estimator-id-2\" type=\"checkbox\" ><label for=\"sk-estimator-id-2\" class=\"sk-toggleable__label sk-toggleable__label-arrow\">estimator: Pipeline</label><div class=\"sk-toggleable__content\"><pre>Pipeline(steps=[(&#x27;columntransformer&#x27;,\n",
       "                 ColumnTransformer(transformers=[(&#x27;onehotencoder&#x27;,\n",
       "                                                  OneHotEncoder(handle_unknown=&#x27;ignore&#x27;),\n",
       "                                                  [&#x27;neighbourhood_group&#x27;,\n",
       "                                                   &#x27;neighbourhood&#x27;, &#x27;room_type&#x27;,\n",
       "                                                   &#x27;last_review&#x27;]),\n",
       "                                                 (&#x27;standardscaler&#x27;,\n",
       "                                                  StandardScaler(),\n",
       "                                                  [&#x27;latitude&#x27;, &#x27;longitude&#x27;,\n",
       "                                                   &#x27;price&#x27;, &#x27;minimum_nights&#x27;,\n",
       "                                                   &#x27;number_of_reviews&#x27;,\n",
       "                                                   &#x27;calculated_host_listings_count&#x27;,\n",
       "                                                   &#x27;availability_365&#x27;]),\n",
       "                                                 (&#x27;drop&#x27;, &#x27;drop&#x27;,\n",
       "                                                  [&#x27;id&#x27;, &#x27;host_id&#x27;, &#x27;host_name&#x27;,\n",
       "                                                   &#x27;name&#x27;])])),\n",
       "                (&#x27;lgbmregressor&#x27;, LGBMRegressor(random_state=123))])</pre></div></div></div><div class=\"sk-serial\"><div class=\"sk-item\"><div class=\"sk-serial\"><div class=\"sk-item sk-dashed-wrapped\"><div class=\"sk-label-container\"><div class=\"sk-label sk-toggleable\"><input class=\"sk-toggleable__control sk-hidden--visually\" id=\"sk-estimator-id-3\" type=\"checkbox\" ><label for=\"sk-estimator-id-3\" class=\"sk-toggleable__label sk-toggleable__label-arrow\">columntransformer: ColumnTransformer</label><div class=\"sk-toggleable__content\"><pre>ColumnTransformer(transformers=[(&#x27;onehotencoder&#x27;,\n",
       "                                 OneHotEncoder(handle_unknown=&#x27;ignore&#x27;),\n",
       "                                 [&#x27;neighbourhood_group&#x27;, &#x27;neighbourhood&#x27;,\n",
       "                                  &#x27;room_type&#x27;, &#x27;last_review&#x27;]),\n",
       "                                (&#x27;standardscaler&#x27;, StandardScaler(),\n",
       "                                 [&#x27;latitude&#x27;, &#x27;longitude&#x27;, &#x27;price&#x27;,\n",
       "                                  &#x27;minimum_nights&#x27;, &#x27;number_of_reviews&#x27;,\n",
       "                                  &#x27;calculated_host_listings_count&#x27;,\n",
       "                                  &#x27;availability_365&#x27;]),\n",
       "                                (&#x27;drop&#x27;, &#x27;drop&#x27;,\n",
       "                                 [&#x27;id&#x27;, &#x27;host_id&#x27;, &#x27;host_name&#x27;, &#x27;name&#x27;])])</pre></div></div></div><div class=\"sk-parallel\"><div class=\"sk-parallel-item\"><div class=\"sk-item\"><div class=\"sk-label-container\"><div class=\"sk-label sk-toggleable\"><input class=\"sk-toggleable__control sk-hidden--visually\" id=\"sk-estimator-id-4\" type=\"checkbox\" ><label for=\"sk-estimator-id-4\" class=\"sk-toggleable__label sk-toggleable__label-arrow\">onehotencoder</label><div class=\"sk-toggleable__content\"><pre>[&#x27;neighbourhood_group&#x27;, &#x27;neighbourhood&#x27;, &#x27;room_type&#x27;, &#x27;last_review&#x27;]</pre></div></div></div><div class=\"sk-serial\"><div class=\"sk-item\"><div class=\"sk-estimator sk-toggleable\"><input class=\"sk-toggleable__control sk-hidden--visually\" id=\"sk-estimator-id-5\" type=\"checkbox\" ><label for=\"sk-estimator-id-5\" class=\"sk-toggleable__label sk-toggleable__label-arrow\">OneHotEncoder</label><div class=\"sk-toggleable__content\"><pre>OneHotEncoder(handle_unknown=&#x27;ignore&#x27;)</pre></div></div></div></div></div></div><div class=\"sk-parallel-item\"><div class=\"sk-item\"><div class=\"sk-label-container\"><div class=\"sk-label sk-toggleable\"><input class=\"sk-toggleable__control sk-hidden--visually\" id=\"sk-estimator-id-6\" type=\"checkbox\" ><label for=\"sk-estimator-id-6\" class=\"sk-toggleable__label sk-toggleable__label-arrow\">standardscaler</label><div class=\"sk-toggleable__content\"><pre>[&#x27;latitude&#x27;, &#x27;longitude&#x27;, &#x27;price&#x27;, &#x27;minimum_nights&#x27;, &#x27;number_of_reviews&#x27;, &#x27;calculated_host_listings_count&#x27;, &#x27;availability_365&#x27;]</pre></div></div></div><div class=\"sk-serial\"><div class=\"sk-item\"><div class=\"sk-estimator sk-toggleable\"><input class=\"sk-toggleable__control sk-hidden--visually\" id=\"sk-estimator-id-7\" type=\"checkbox\" ><label for=\"sk-estimator-id-7\" class=\"sk-toggleable__label sk-toggleable__label-arrow\">StandardScaler</label><div class=\"sk-toggleable__content\"><pre>StandardScaler()</pre></div></div></div></div></div></div><div class=\"sk-parallel-item\"><div class=\"sk-item\"><div class=\"sk-label-container\"><div class=\"sk-label sk-toggleable\"><input class=\"sk-toggleable__control sk-hidden--visually\" id=\"sk-estimator-id-8\" type=\"checkbox\" ><label for=\"sk-estimator-id-8\" class=\"sk-toggleable__label sk-toggleable__label-arrow\">drop</label><div class=\"sk-toggleable__content\"><pre>[&#x27;id&#x27;, &#x27;host_id&#x27;, &#x27;host_name&#x27;, &#x27;name&#x27;]</pre></div></div></div><div class=\"sk-serial\"><div class=\"sk-item\"><div class=\"sk-estimator sk-toggleable\"><input class=\"sk-toggleable__control sk-hidden--visually\" id=\"sk-estimator-id-9\" type=\"checkbox\" ><label for=\"sk-estimator-id-9\" class=\"sk-toggleable__label sk-toggleable__label-arrow\">drop</label><div class=\"sk-toggleable__content\"><pre>drop</pre></div></div></div></div></div></div></div></div><div class=\"sk-item\"><div class=\"sk-estimator sk-toggleable\"><input class=\"sk-toggleable__control sk-hidden--visually\" id=\"sk-estimator-id-10\" type=\"checkbox\" ><label for=\"sk-estimator-id-10\" class=\"sk-toggleable__label sk-toggleable__label-arrow\">LGBMRegressor</label><div class=\"sk-toggleable__content\"><pre>LGBMRegressor(random_state=123)</pre></div></div></div></div></div></div></div></div></div></div></div></div>"
      ],
      "text/plain": [
       "RandomizedSearchCV(estimator=Pipeline(steps=[('columntransformer',\n",
       "                                              ColumnTransformer(transformers=[('onehotencoder',\n",
       "                                                                               OneHotEncoder(handle_unknown='ignore'),\n",
       "                                                                               ['neighbourhood_group',\n",
       "                                                                                'neighbourhood',\n",
       "                                                                                'room_type',\n",
       "                                                                                'last_review']),\n",
       "                                                                              ('standardscaler',\n",
       "                                                                               StandardScaler(),\n",
       "                                                                               ['latitude',\n",
       "                                                                                'longitude',\n",
       "                                                                                'price',\n",
       "                                                                                'minimum_nights',\n",
       "                                                                                'number_of_reviews',\n",
       "                                                                                'calculated_host_listings_count',\n",
       "                                                                                'availability_365']),\n",
       "                                                                              ('drop',\n",
       "                                                                               'drop',\n",
       "                                                                               ['id',\n",
       "                                                                                'host_id',\n",
       "                                                                                'host_name',\n",
       "                                                                                'name'])])),\n",
       "                                             ('lgbmregressor',\n",
       "                                              LGBMRegressor(random_state=123))]),\n",
       "                   n_iter=200, n_jobs=-1,\n",
       "                   param_distributions={'lgbmregressor__max_depth': [2, 3, 4, 5,\n",
       "                                                                     7, 8, 9,\n",
       "                                                                     10],\n",
       "                                        'lgbmregressor__n_estimators': range(1, 200)},\n",
       "                   random_state=123, return_train_score=True)"
      ]
     },
     "execution_count": 25,
     "metadata": {},
     "output_type": "execute_result"
    }
   ],
   "source": [
    "#Building parameters and ranges for the RandomizedSearchCV\n",
    "param_dist = {\n",
    "  #  'lgbmregressor__learning_rate' : [0.05,0.10,0.15,0.20,0.25,0.30],\n",
    "    'lgbmregressor__n_estimators': range(1,200,1),\n",
    "    'lgbmregressor__max_depth': [2, 3, 4, 5, 7, 8, 9, 10],\n",
    "   # 'lgbmregressor__subsample': [i/10.0 for i in range(1,10)],\n",
    "    #'lgbmregressor__colsample_bytree': [i/10.0 for i in range(1,10)], \n",
    "}\n",
    "\n",
    "# Testing 200 random hyperparameter combinations with RandomizedSearchCV\n",
    "pipe = make_pipeline(preprocessor, LGBMRegressor(random_state=123))\n",
    "search_rand = RandomizedSearchCV(\n",
    "    pipe, param_dist, return_train_score=True, n_jobs=-1, n_iter=200, random_state=123\n",
    ")\n",
    "search_rand.fit(X_train, y_train)"
   ]
  },
  {
   "cell_type": "code",
   "execution_count": 26,
   "metadata": {
    "tags": []
   },
   "outputs": [
    {
     "data": {
      "text/html": [
       "<div>\n",
       "<style scoped>\n",
       "    .dataframe tbody tr th:only-of-type {\n",
       "        vertical-align: middle;\n",
       "    }\n",
       "\n",
       "    .dataframe tbody tr th {\n",
       "        vertical-align: top;\n",
       "    }\n",
       "\n",
       "    .dataframe thead th {\n",
       "        text-align: right;\n",
       "    }\n",
       "</style>\n",
       "<table border=\"1\" class=\"dataframe\">\n",
       "  <thead>\n",
       "    <tr style=\"text-align: right;\">\n",
       "      <th></th>\n",
       "      <th>fit_time</th>\n",
       "      <th>score_time</th>\n",
       "      <th>test_score</th>\n",
       "      <th>train_score</th>\n",
       "    </tr>\n",
       "  </thead>\n",
       "  <tbody>\n",
       "    <tr>\n",
       "      <th>dummy</th>\n",
       "      <td>0.020 (+/- 0.003)</td>\n",
       "      <td>0.005 (+/- 0.000)</td>\n",
       "      <td>-0.000 (+/- 0.001)</td>\n",
       "      <td>0.000 (+/- 0.000)</td>\n",
       "    </tr>\n",
       "    <tr>\n",
       "      <th>ridge</th>\n",
       "      <td>0.041 (+/- 0.007)</td>\n",
       "      <td>0.006 (+/- 0.000)</td>\n",
       "      <td>0.449 (+/- 0.016)</td>\n",
       "      <td>0.461 (+/- 0.004)</td>\n",
       "    </tr>\n",
       "    <tr>\n",
       "      <th>ridge_opt</th>\n",
       "      <td>0.029 (+/- 0.003)</td>\n",
       "      <td>0.005 (+/- 0.000)</td>\n",
       "      <td>0.451 (+/- 0.015)</td>\n",
       "      <td>0.458 (+/- 0.004)</td>\n",
       "    </tr>\n",
       "    <tr>\n",
       "      <th>KNN</th>\n",
       "      <td>0.019 (+/- 0.001)</td>\n",
       "      <td>3.692 (+/- 0.199)</td>\n",
       "      <td>0.435 (+/- 0.013)</td>\n",
       "      <td>0.627 (+/- 0.004)</td>\n",
       "    </tr>\n",
       "    <tr>\n",
       "      <th>RBF SVR</th>\n",
       "      <td>11.659 (+/- 0.070)</td>\n",
       "      <td>1.692 (+/- 0.005)</td>\n",
       "      <td>0.488 (+/- 0.011)</td>\n",
       "      <td>0.509 (+/- 0.002)</td>\n",
       "    </tr>\n",
       "    <tr>\n",
       "      <th>Gradient Boosting</th>\n",
       "      <td>2.265 (+/- 0.011)</td>\n",
       "      <td>0.011 (+/- 0.001)</td>\n",
       "      <td>0.565 (+/- 0.010)</td>\n",
       "      <td>0.592 (+/- 0.003)</td>\n",
       "    </tr>\n",
       "    <tr>\n",
       "      <th>LGBMR</th>\n",
       "      <td>0.294 (+/- 0.013)</td>\n",
       "      <td>0.011 (+/- 0.000)</td>\n",
       "      <td>0.597 (+/- 0.009)</td>\n",
       "      <td>0.682 (+/- 0.002)</td>\n",
       "    </tr>\n",
       "    <tr>\n",
       "      <th>XGBR</th>\n",
       "      <td>0.527 (+/- 0.004)</td>\n",
       "      <td>0.009 (+/- 0.000)</td>\n",
       "      <td>0.585 (+/- 0.010)</td>\n",
       "      <td>0.738 (+/- 0.003)</td>\n",
       "    </tr>\n",
       "    <tr>\n",
       "      <th>RFECV</th>\n",
       "      <td>24.109 (+/- 0.866)</td>\n",
       "      <td>0.013 (+/- 0.002)</td>\n",
       "      <td>0.587 (+/- 0.013)</td>\n",
       "      <td>0.671 (+/- 0.007)</td>\n",
       "    </tr>\n",
       "    <tr>\n",
       "      <th>LGBMR_opt</th>\n",
       "      <td>0.517 (+/- 0.015)</td>\n",
       "      <td>0.015 (+/- 0.001)</td>\n",
       "      <td>0.598 (+/- 0.010)</td>\n",
       "      <td>0.715 (+/- 0.003)</td>\n",
       "    </tr>\n",
       "  </tbody>\n",
       "</table>\n",
       "</div>"
      ],
      "text/plain": [
       "                             fit_time         score_time          test_score  \\\n",
       "dummy               0.020 (+/- 0.003)  0.005 (+/- 0.000)  -0.000 (+/- 0.001)   \n",
       "ridge               0.041 (+/- 0.007)  0.006 (+/- 0.000)   0.449 (+/- 0.016)   \n",
       "ridge_opt           0.029 (+/- 0.003)  0.005 (+/- 0.000)   0.451 (+/- 0.015)   \n",
       "KNN                 0.019 (+/- 0.001)  3.692 (+/- 0.199)   0.435 (+/- 0.013)   \n",
       "RBF SVR            11.659 (+/- 0.070)  1.692 (+/- 0.005)   0.488 (+/- 0.011)   \n",
       "Gradient Boosting   2.265 (+/- 0.011)  0.011 (+/- 0.001)   0.565 (+/- 0.010)   \n",
       "LGBMR               0.294 (+/- 0.013)  0.011 (+/- 0.000)   0.597 (+/- 0.009)   \n",
       "XGBR                0.527 (+/- 0.004)  0.009 (+/- 0.000)   0.585 (+/- 0.010)   \n",
       "RFECV              24.109 (+/- 0.866)  0.013 (+/- 0.002)   0.587 (+/- 0.013)   \n",
       "LGBMR_opt           0.517 (+/- 0.015)  0.015 (+/- 0.001)   0.598 (+/- 0.010)   \n",
       "\n",
       "                         train_score  \n",
       "dummy              0.000 (+/- 0.000)  \n",
       "ridge              0.461 (+/- 0.004)  \n",
       "ridge_opt          0.458 (+/- 0.004)  \n",
       "KNN                0.627 (+/- 0.004)  \n",
       "RBF SVR            0.509 (+/- 0.002)  \n",
       "Gradient Boosting  0.592 (+/- 0.003)  \n",
       "LGBMR              0.682 (+/- 0.002)  \n",
       "XGBR               0.738 (+/- 0.003)  \n",
       "RFECV              0.671 (+/- 0.007)  \n",
       "LGBMR_opt          0.715 (+/- 0.003)  "
      ]
     },
     "execution_count": 26,
     "metadata": {},
     "output_type": "execute_result"
    }
   ],
   "source": [
    "# Building a LGBMR using the best model from the hyperparameter optimization\n",
    "best_params = search_rand.best_params_\n",
    "best_score = search_rand.best_score_\n",
    "best_model_pipe = search_rand.best_estimator_\n",
    "results_dict['LGBMR_opt'] = mean_std_cross_val_scores(best_model_pipe,\n",
    "                                                     X_train, \n",
    "                                                     y_train, \n",
    "                                                     return_train_score=True)\n",
    "results_df = pd.DataFrame(results_dict).T\n",
    "results_df"
   ]
  },
  {
   "cell_type": "markdown",
   "metadata": {},
   "source": [
    "#### Comments on the hyperparameter optimization.\n",
    "\n",
    "The optimized model marginally improves the validation score, however it seems that the model still works in the overfitting area further research needed to optimize model. "
   ]
  },
  {
   "cell_type": "markdown",
   "metadata": {},
   "source": [
    "####  Feature importance using `eli5`"
   ]
  },
  {
   "cell_type": "code",
   "execution_count": 27,
   "metadata": {
    "tags": []
   },
   "outputs": [
    {
     "data": {
      "text/html": [
       "\n",
       "    <style>\n",
       "    table.eli5-weights tr:hover {\n",
       "        filter: brightness(85%);\n",
       "    }\n",
       "</style>\n",
       "\n",
       "\n",
       "\n",
       "    \n",
       "\n",
       "    \n",
       "\n",
       "    \n",
       "\n",
       "    \n",
       "\n",
       "    \n",
       "\n",
       "    \n",
       "\n",
       "\n",
       "    \n",
       "\n",
       "    \n",
       "\n",
       "    \n",
       "\n",
       "    \n",
       "\n",
       "    \n",
       "\n",
       "    \n",
       "\n",
       "\n",
       "    \n",
       "\n",
       "    \n",
       "\n",
       "    \n",
       "\n",
       "    \n",
       "\n",
       "    \n",
       "        <table class=\"eli5-weights eli5-feature-importances\" style=\"border-collapse: collapse; border: none; margin-top: 0em; table-layout: auto;\">\n",
       "    <thead>\n",
       "    <tr style=\"border: none;\">\n",
       "        <th style=\"padding: 0 1em 0 0.5em; text-align: right; border: none;\">Weight</th>\n",
       "        <th style=\"padding: 0 0.5em 0 0.5em; text-align: left; border: none;\">Feature</th>\n",
       "    </tr>\n",
       "    </thead>\n",
       "    <tbody>\n",
       "    \n",
       "        <tr style=\"background-color: hsl(120, 100.00%, 80.00%); border: none;\">\n",
       "            <td style=\"padding: 0 1em 0 0.5em; text-align: right; border: none;\">\n",
       "                0.4822\n",
       "                \n",
       "            </td>\n",
       "            <td style=\"padding: 0 0.5em 0 0.5em; text-align: left; border: none;\">\n",
       "                number_of_reviews\n",
       "            </td>\n",
       "        </tr>\n",
       "    \n",
       "        <tr style=\"background-color: hsl(120, 100.00%, 90.97%); border: none;\">\n",
       "            <td style=\"padding: 0 1em 0 0.5em; text-align: right; border: none;\">\n",
       "                0.1549\n",
       "                \n",
       "            </td>\n",
       "            <td style=\"padding: 0 0.5em 0 0.5em; text-align: left; border: none;\">\n",
       "                last_review_2019\n",
       "            </td>\n",
       "        </tr>\n",
       "    \n",
       "        <tr style=\"background-color: hsl(120, 100.00%, 91.78%); border: none;\">\n",
       "            <td style=\"padding: 0 1em 0 0.5em; text-align: right; border: none;\">\n",
       "                0.1354\n",
       "                \n",
       "            </td>\n",
       "            <td style=\"padding: 0 0.5em 0 0.5em; text-align: left; border: none;\">\n",
       "                minimum_nights\n",
       "            </td>\n",
       "        </tr>\n",
       "    \n",
       "        <tr style=\"background-color: hsl(120, 100.00%, 94.89%); border: none;\">\n",
       "            <td style=\"padding: 0 1em 0 0.5em; text-align: right; border: none;\">\n",
       "                0.0687\n",
       "                \n",
       "            </td>\n",
       "            <td style=\"padding: 0 0.5em 0 0.5em; text-align: left; border: none;\">\n",
       "                availability_365\n",
       "            </td>\n",
       "        </tr>\n",
       "    \n",
       "        <tr style=\"background-color: hsl(120, 100.00%, 95.78%); border: none;\">\n",
       "            <td style=\"padding: 0 1em 0 0.5em; text-align: right; border: none;\">\n",
       "                0.0523\n",
       "                \n",
       "            </td>\n",
       "            <td style=\"padding: 0 0.5em 0 0.5em; text-align: left; border: none;\">\n",
       "                longitude\n",
       "            </td>\n",
       "        </tr>\n",
       "    \n",
       "        <tr style=\"background-color: hsl(120, 100.00%, 97.45%); border: none;\">\n",
       "            <td style=\"padding: 0 1em 0 0.5em; text-align: right; border: none;\">\n",
       "                0.0254\n",
       "                \n",
       "            </td>\n",
       "            <td style=\"padding: 0 0.5em 0 0.5em; text-align: left; border: none;\">\n",
       "                latitude\n",
       "            </td>\n",
       "        </tr>\n",
       "    \n",
       "        <tr style=\"background-color: hsl(120, 100.00%, 97.64%); border: none;\">\n",
       "            <td style=\"padding: 0 1em 0 0.5em; text-align: right; border: none;\">\n",
       "                0.0228\n",
       "                \n",
       "            </td>\n",
       "            <td style=\"padding: 0 0.5em 0 0.5em; text-align: left; border: none;\">\n",
       "                price\n",
       "            </td>\n",
       "        </tr>\n",
       "    \n",
       "        <tr style=\"background-color: hsl(120, 100.00%, 97.99%); border: none;\">\n",
       "            <td style=\"padding: 0 1em 0 0.5em; text-align: right; border: none;\">\n",
       "                0.0181\n",
       "                \n",
       "            </td>\n",
       "            <td style=\"padding: 0 0.5em 0 0.5em; text-align: left; border: none;\">\n",
       "                calculated_host_listings_count\n",
       "            </td>\n",
       "        </tr>\n",
       "    \n",
       "        <tr style=\"background-color: hsl(120, 100.00%, 98.60%); border: none;\">\n",
       "            <td style=\"padding: 0 1em 0 0.5em; text-align: right; border: none;\">\n",
       "                0.0108\n",
       "                \n",
       "            </td>\n",
       "            <td style=\"padding: 0 0.5em 0 0.5em; text-align: left; border: none;\">\n",
       "                neighbourhood_East Elmhurst\n",
       "            </td>\n",
       "        </tr>\n",
       "    \n",
       "        <tr style=\"background-color: hsl(120, 100.00%, 99.26%); border: none;\">\n",
       "            <td style=\"padding: 0 1em 0 0.5em; text-align: right; border: none;\">\n",
       "                0.0043\n",
       "                \n",
       "            </td>\n",
       "            <td style=\"padding: 0 0.5em 0 0.5em; text-align: left; border: none;\">\n",
       "                room_type_Entire home/apt\n",
       "            </td>\n",
       "        </tr>\n",
       "    \n",
       "        <tr style=\"background-color: hsl(120, 100.00%, 99.45%); border: none;\">\n",
       "            <td style=\"padding: 0 1em 0 0.5em; text-align: right; border: none;\">\n",
       "                0.0029\n",
       "                \n",
       "            </td>\n",
       "            <td style=\"padding: 0 0.5em 0 0.5em; text-align: left; border: none;\">\n",
       "                neighbourhood_group_Brooklyn\n",
       "            </td>\n",
       "        </tr>\n",
       "    \n",
       "        <tr style=\"background-color: hsl(120, 100.00%, 99.46%); border: none;\">\n",
       "            <td style=\"padding: 0 1em 0 0.5em; text-align: right; border: none;\">\n",
       "                0.0028\n",
       "                \n",
       "            </td>\n",
       "            <td style=\"padding: 0 0.5em 0 0.5em; text-align: left; border: none;\">\n",
       "                neighbourhood_Hell&#x27;s Kitchen\n",
       "            </td>\n",
       "        </tr>\n",
       "    \n",
       "        <tr style=\"background-color: hsl(120, 100.00%, 99.49%); border: none;\">\n",
       "            <td style=\"padding: 0 1em 0 0.5em; text-align: right; border: none;\">\n",
       "                0.0026\n",
       "                \n",
       "            </td>\n",
       "            <td style=\"padding: 0 0.5em 0 0.5em; text-align: left; border: none;\">\n",
       "                neighbourhood_Theater District\n",
       "            </td>\n",
       "        </tr>\n",
       "    \n",
       "        <tr style=\"background-color: hsl(120, 100.00%, 99.65%); border: none;\">\n",
       "            <td style=\"padding: 0 1em 0 0.5em; text-align: right; border: none;\">\n",
       "                0.0015\n",
       "                \n",
       "            </td>\n",
       "            <td style=\"padding: 0 0.5em 0 0.5em; text-align: left; border: none;\">\n",
       "                room_type_Private room\n",
       "            </td>\n",
       "        </tr>\n",
       "    \n",
       "        <tr style=\"background-color: hsl(120, 100.00%, 99.66%); border: none;\">\n",
       "            <td style=\"padding: 0 1em 0 0.5em; text-align: right; border: none;\">\n",
       "                0.0014\n",
       "                \n",
       "            </td>\n",
       "            <td style=\"padding: 0 0.5em 0 0.5em; text-align: left; border: none;\">\n",
       "                neighbourhood_Midtown\n",
       "            </td>\n",
       "        </tr>\n",
       "    \n",
       "        <tr style=\"background-color: hsl(120, 100.00%, 99.74%); border: none;\">\n",
       "            <td style=\"padding: 0 1em 0 0.5em; text-align: right; border: none;\">\n",
       "                0.0009\n",
       "                \n",
       "            </td>\n",
       "            <td style=\"padding: 0 0.5em 0 0.5em; text-align: left; border: none;\">\n",
       "                last_review_2018\n",
       "            </td>\n",
       "        </tr>\n",
       "    \n",
       "        <tr style=\"background-color: hsl(120, 100.00%, 99.76%); border: none;\">\n",
       "            <td style=\"padding: 0 1em 0 0.5em; text-align: right; border: none;\">\n",
       "                0.0009\n",
       "                \n",
       "            </td>\n",
       "            <td style=\"padding: 0 0.5em 0 0.5em; text-align: left; border: none;\">\n",
       "                neighbourhood_Financial District\n",
       "            </td>\n",
       "        </tr>\n",
       "    \n",
       "        <tr style=\"background-color: hsl(120, 100.00%, 99.76%); border: none;\">\n",
       "            <td style=\"padding: 0 1em 0 0.5em; text-align: right; border: none;\">\n",
       "                0.0009\n",
       "                \n",
       "            </td>\n",
       "            <td style=\"padding: 0 0.5em 0 0.5em; text-align: left; border: none;\">\n",
       "                neighbourhood_Richmond Hill\n",
       "            </td>\n",
       "        </tr>\n",
       "    \n",
       "        <tr style=\"background-color: hsl(120, 100.00%, 99.76%); border: none;\">\n",
       "            <td style=\"padding: 0 1em 0 0.5em; text-align: right; border: none;\">\n",
       "                0.0009\n",
       "                \n",
       "            </td>\n",
       "            <td style=\"padding: 0 0.5em 0 0.5em; text-align: left; border: none;\">\n",
       "                neighbourhood_group_Manhattan\n",
       "            </td>\n",
       "        </tr>\n",
       "    \n",
       "        <tr style=\"background-color: hsl(120, 100.00%, 99.78%); border: none;\">\n",
       "            <td style=\"padding: 0 1em 0 0.5em; text-align: right; border: none;\">\n",
       "                0.0008\n",
       "                \n",
       "            </td>\n",
       "            <td style=\"padding: 0 0.5em 0 0.5em; text-align: left; border: none;\">\n",
       "                neighbourhood_Bedford-Stuyvesant\n",
       "            </td>\n",
       "        </tr>\n",
       "    \n",
       "    \n",
       "        \n",
       "            <tr style=\"background-color: hsl(120, 100.00%, 99.78%); border: none;\">\n",
       "                <td colspan=\"2\" style=\"padding: 0 0.5em 0 0.5em; text-align: center; border: none; white-space: nowrap;\">\n",
       "                    <i>&hellip; 219 more &hellip;</i>\n",
       "                </td>\n",
       "            </tr>\n",
       "        \n",
       "    \n",
       "    </tbody>\n",
       "</table>\n",
       "    \n",
       "\n",
       "    \n",
       "\n",
       "\n",
       "    \n",
       "\n",
       "    \n",
       "\n",
       "    \n",
       "\n",
       "    \n",
       "\n",
       "    \n",
       "\n",
       "    \n",
       "\n",
       "\n",
       "\n"
      ],
      "text/plain": [
       "Explanation(estimator='LGBMRegressor(max_depth=10, n_estimators=197, random_state=123)', description='\\nLightGBM feature importances; values are numbers 0 <= x <= 1;\\nall values sum to 1.\\n', error=None, method='feature importances', is_regression=True, targets=None, feature_importances=FeatureImportances(importances=[FeatureWeight(feature='number_of_reviews', weight=0.4822336393198041, std=None, value=None), FeatureWeight(feature='last_review_2019', weight=0.15487453177037766, std=None, value=None), FeatureWeight(feature='minimum_nights', weight=0.13542592138178933, std=None, value=None), FeatureWeight(feature='availability_365', weight=0.06866882281526712, std=None, value=None), FeatureWeight(feature='longitude', weight=0.05227864905826888, std=None, value=None), FeatureWeight(feature='latitude', weight=0.025414788184423307, std=None, value=None), FeatureWeight(feature='price', weight=0.02277916399667808, std=None, value=None), FeatureWeight(feature='calculated_host_listings_count', weight=0.01806408366440343, std=None, value=None), FeatureWeight(feature='neighbourhood_East Elmhurst', weight=0.010846736963056346, std=None, value=None), FeatureWeight(feature='room_type_Entire home/apt', weight=0.004348817047825576, std=None, value=None), FeatureWeight(feature='neighbourhood_group_Brooklyn', weight=0.002870964681642283, std=None, value=None), FeatureWeight(feature=\"neighbourhood_Hell's Kitchen\", weight=0.0027870189414877355, std=None, value=None), FeatureWeight(feature='neighbourhood_Theater District', weight=0.0025525619339743398, std=None, value=None), FeatureWeight(feature='room_type_Private room', weight=0.0014854539560931507, std=None, value=None), FeatureWeight(feature='neighbourhood_Midtown', weight=0.001415854839008265, std=None, value=None), FeatureWeight(feature='last_review_2018', weight=0.0009499866396476853, std=None, value=None), FeatureWeight(feature='neighbourhood_Financial District', weight=0.0008718843508310286, std=None, value=None), FeatureWeight(feature='neighbourhood_Richmond Hill', weight=0.0008624179257201976, std=None, value=None), FeatureWeight(feature='neighbourhood_group_Manhattan', weight=0.0008595509341779743, std=None, value=None), FeatureWeight(feature='neighbourhood_Bedford-Stuyvesant', weight=0.0007641644749928552, std=None, value=None)], remaining=219), decision_tree=None, highlight_spaces=None, transition_features=None, image=None)"
      ]
     },
     "execution_count": 27,
     "metadata": {},
     "output_type": "execute_result"
    }
   ],
   "source": [
    "# Builing eli5 object\n",
    "best_model_pipe.fit(X_train, y_train)\n",
    "preprocessor.fit(X_train, y_train)\n",
    "features =  preprocessor.named_transformers_[\"onehotencoder\"].get_feature_names_out().tolist() + numeric_features\n",
    "eli5.explain_weights(best_model_pipe.named_steps[\"lgbmregressor\"], feature_names=features)"
   ]
  },
  {
   "cell_type": "markdown",
   "metadata": {},
   "source": [
    "#### Feature importance using `Shap Values`"
   ]
  },
  {
   "cell_type": "code",
   "execution_count": 28,
   "metadata": {},
   "outputs": [
    {
     "name": "stderr",
     "output_type": "stream",
     "text": [
      "No data for colormapping provided via 'c'. Parameters 'vmin', 'vmax' will be ignored\n"
     ]
    },
    {
     "data": {
      "image/png": "[encoded data removed]",
      "text/plain": [
       "<Figure size 800x950 with 2 Axes>"
      ]
     },
     "metadata": {},
     "output_type": "display_data"
    }
   ],
   "source": [
    "# Shap values input pre processing\n",
    "X_train_enc = pd.DataFrame(\n",
    "    data=preprocessor.transform(X_train).toarray(),\n",
    "    columns=features,\n",
    "    index=X_train.index,\n",
    ")\n",
    "X_test_enc_df = pd.DataFrame(\n",
    "    data=preprocessor.transform(X_test).toarray(),\n",
    "    columns=features\n",
    ")\n",
    "\n",
    "#Building Shap values plot\n",
    "lgbmr_explainer = shap.TreeExplainer(best_model_pipe.named_steps['lgbmregressor'])\n",
    "train_lgbmr_shap_values = lgbmr_explainer.shap_values(X_train_enc)\n",
    "shap.summary_plot(train_lgbmr_shap_values, X_train_enc)"
   ]
  },
  {
   "cell_type": "markdown",
   "metadata": {},
   "source": [
    "#### Summarizing results"
   ]
  },
  {
   "cell_type": "markdown",
   "metadata": {},
   "source": [
    "We can see that the top 5 variables for our model are `number_of_reviews`, `last_review_2019`, `minimum_nights`, `availability_365`, `longitude`. Since `last_review_2019` is derived from the feature engineering process, it might be worth testing some other methods to be a bit more granular, for example the difference in days between today and the last review.\n",
    "\n",
    "The Shap Values show super interesting information, for example low values for the minimum number of nights increase the number of reviews per month and for example that the price does not seem to have such a clear contribution to increase or decrease the number of reviews per month by itself."
   ]
  },
  {
   "cell_type": "markdown",
   "metadata": {},
   "source": [
    "#### Train and Test scores report"
   ]
  },
  {
   "cell_type": "markdown",
   "metadata": {},
   "source": [
    "The test score obtained is 0.567 while the final train score is 0.705, the model is consistent with the cross validation process, which indicates that the framework that was followed during the project is adequate. The results are reliable, although there seems to be room for improvement to try to decrease the validation error further by doing more research on model control and iterating on feature design and transformation."
   ]
  },
  {
   "cell_type": "code",
   "execution_count": 29,
   "metadata": {},
   "outputs": [
    {
     "name": "stdout",
     "output_type": "stream",
     "text": [
      "Train score: 0.705\n",
      "Test score: 0.567\n"
     ]
    }
   ],
   "source": [
    "# Printing train and test scores\n",
    "train_score = best_model_pipe.score(X_train, y_train)\n",
    "test_score = best_model_pipe.score(X_test, y_test)\n",
    "print(\"Train score: %0.3f\" % train_score)\n",
    "print(\"Test score: %0.3f\" % test_score)\n"
   ]
  },
  {
   "cell_type": "markdown",
   "metadata": {},
   "source": [
    "#### Shap values force plots to visualize features contribution to specific predictions."
   ]
  },
  {
   "cell_type": "code",
   "execution_count": null,
   "metadata": {
    "tags": []
   },
   "outputs": [
    {
     "data": {
      "image/png": "[encoded data removed]",
      "text/plain": [
       "<Figure size 2000x300 with 1 Axes>"
      ]
     },
     "metadata": {},
     "output_type": "display_data"
    }
   ],
   "source": [
    "# Creating force plot 1\n",
    "test_lgbmr_shap_values = lgbmr_explainer.shap_values(X_test_enc_df)\n",
    "shap.force_plot(lgbmr_explainer.expected_value, test_lgbmr_shap_values[-1], X_test_enc_df.iloc[-1,:], matplotlib=True)"
   ]
  },
  {
   "cell_type": "code",
   "execution_count": 31,
   "metadata": {},
   "outputs": [
    {
     "data": {
      "image/png": "[encoded data removed]",
      "text/plain": [
       "<Figure size 2000x300 with 1 Axes>"
      ]
     },
     "metadata": {},
     "output_type": "display_data"
    }
   ],
   "source": [
    "# Creating force plot 1\n",
    "shap.force_plot(lgbmr_explainer.expected_value, test_lgbmr_shap_values[4], X_test_enc_df.iloc[4,:], matplotlib=True)"
   ]
  },
  {
   "cell_type": "markdown",
   "metadata": {},
   "source": [
    "#### Results summary"
   ]
  },
  {
   "cell_type": "code",
   "execution_count": 32,
   "metadata": {
    "tags": []
   },
   "outputs": [
    {
     "data": {
      "text/html": [
       "<div>\n",
       "<style scoped>\n",
       "    .dataframe tbody tr th:only-of-type {\n",
       "        vertical-align: middle;\n",
       "    }\n",
       "\n",
       "    .dataframe tbody tr th {\n",
       "        vertical-align: top;\n",
       "    }\n",
       "\n",
       "    .dataframe thead th {\n",
       "        text-align: right;\n",
       "    }\n",
       "</style>\n",
       "<table border=\"1\" class=\"dataframe\">\n",
       "  <thead>\n",
       "    <tr style=\"text-align: right;\">\n",
       "      <th></th>\n",
       "      <th>fit_time</th>\n",
       "      <th>score_time</th>\n",
       "      <th>test_score</th>\n",
       "      <th>train_score</th>\n",
       "    </tr>\n",
       "  </thead>\n",
       "  <tbody>\n",
       "    <tr>\n",
       "      <th>ridge_opt</th>\n",
       "      <td>0.029 (+/- 0.003)</td>\n",
       "      <td>0.005 (+/- 0.000)</td>\n",
       "      <td>0.451 (+/- 0.015)</td>\n",
       "      <td>0.458 (+/- 0.004)</td>\n",
       "    </tr>\n",
       "    <tr>\n",
       "      <th>LGBMR</th>\n",
       "      <td>0.294 (+/- 0.013)</td>\n",
       "      <td>0.011 (+/- 0.000)</td>\n",
       "      <td>0.597 (+/- 0.009)</td>\n",
       "      <td>0.682 (+/- 0.002)</td>\n",
       "    </tr>\n",
       "    <tr>\n",
       "      <th>RFECV</th>\n",
       "      <td>24.109 (+/- 0.866)</td>\n",
       "      <td>0.013 (+/- 0.002)</td>\n",
       "      <td>0.587 (+/- 0.013)</td>\n",
       "      <td>0.671 (+/- 0.007)</td>\n",
       "    </tr>\n",
       "    <tr>\n",
       "      <th>LGBMR_opt</th>\n",
       "      <td>0.517 (+/- 0.015)</td>\n",
       "      <td>0.015 (+/- 0.001)</td>\n",
       "      <td>0.598 (+/- 0.010)</td>\n",
       "      <td>0.715 (+/- 0.003)</td>\n",
       "    </tr>\n",
       "  </tbody>\n",
       "</table>\n",
       "</div>"
      ],
      "text/plain": [
       "                     fit_time         score_time         test_score  \\\n",
       "ridge_opt   0.029 (+/- 0.003)  0.005 (+/- 0.000)  0.451 (+/- 0.015)   \n",
       "LGBMR       0.294 (+/- 0.013)  0.011 (+/- 0.000)  0.597 (+/- 0.009)   \n",
       "RFECV      24.109 (+/- 0.866)  0.013 (+/- 0.002)  0.587 (+/- 0.013)   \n",
       "LGBMR_opt   0.517 (+/- 0.015)  0.015 (+/- 0.001)  0.598 (+/- 0.010)   \n",
       "\n",
       "                 train_score  \n",
       "ridge_opt  0.458 (+/- 0.004)  \n",
       "LGBMR      0.682 (+/- 0.002)  \n",
       "RFECV      0.671 (+/- 0.007)  \n",
       "LGBMR_opt  0.715 (+/- 0.003)  "
      ]
     },
     "execution_count": 32,
     "metadata": {},
     "output_type": "execute_result"
    }
   ],
   "source": [
    "results_df.loc[[\"ridge_opt\", \"LGBMR\", \"RFECV\", \"LGBMR_opt\"],:]"
   ]
  },
  {
   "cell_type": "markdown",
   "metadata": {},
   "source": [
    "After having trained multiple models for our regression problem, the best performing model is the Light Boosting Machine Regressor, having test score of 0.567 and train score equal to 0.705, the model is consistent with the cross validation process, which indicates that framework that was followed during the project is adequate. As expected, non linear models performed better in this specific regression problem. \n",
    "\n",
    "As points to continue working on, I would like to iterate to improve my model and look for the fit and train scores both to increase and for them to be more similar to each other (to find the sweat spot). To do this, I would look to do a better job of feature engineering and hyper parameter optimization. For example, since the variables `latitude` and `longitude` are actually a geographic representation of a point, it is worth reviewing what feature engineering process would be suitable for these variables and applying it to see if this improves the model."
   ]
  }
 ],
 "metadata": {
  "kernelspec": {
   "display_name": "Python [conda env:573]",
   "language": "python",
   "name": "conda-env-573-py"
  },
  "language_info": {
   "codemirror_mode": {
    "name": "ipython",
    "version": 3
   },
   "file_extension": ".py",
   "mimetype": "text/x-python",
   "name": "python",
   "nbconvert_exporter": "python",
   "pygments_lexer": "ipython3",
   "version": "3.10.6"
  },
  "otter": {
   "OK_FORMAT": true,
   "tests": {}
  }
 },
 "nbformat": 4,
 "nbformat_minor": 4
}
